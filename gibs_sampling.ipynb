{
 "cells": [
  {
   "cell_type": "code",
   "execution_count": 1,
   "metadata": {},
   "outputs": [],
   "source": [
    "using Distributions, Random, StatsBase,LinearAlgebra"
   ]
  },
  {
   "cell_type": "code",
   "execution_count": 2,
   "metadata": {},
   "outputs": [
    {
     "data": {
      "text/plain": [
       "initialize_parameters (generic function with 1 method)"
      ]
     },
     "metadata": {},
     "output_type": "display_data"
    }
   ],
   "source": [
    "function initialize_parameters(K, D)\n",
    "    μ = [randn(D) for _ in 1:K]        # Means of clusters\n",
    "    σ² = [rand(Gamma(2.0, 2.0)) for _ in 1:K]  # Variances\n",
    "    π = normalize(rand(Dirichlet(1:K)))  # Mixture weights\n",
    "    return μ, σ², π\n",
    "end"
   ]
  },
  {
   "cell_type": "code",
   "execution_count": 3,
   "metadata": {},
   "outputs": [
    {
     "data": {
      "text/plain": [
       "3-element Vector{Float64}:\n",
       " 9.070189081886982\n",
       " 1.945365902273532\n",
       " 4.372492330805952"
      ]
     },
     "metadata": {},
     "output_type": "display_data"
    }
   ],
   "source": [
    "μ, σ², π=initialize_parameters(3, 1)\n",
    "σ²"
   ]
  },
  {
   "cell_type": "code",
   "execution_count": 8,
   "metadata": {},
   "outputs": [
    {
     "data": {
      "text/plain": [
       "sample_assignments (generic function with 1 method)"
      ]
     },
     "metadata": {},
     "output_type": "display_data"
    }
   ],
   "source": [
    "function sample_assignments(R, μ, σ², π, K)\n",
    "    N = length(R)\n",
    "    z = zeros(Int, N)\n",
    "    \n",
    "    for t in 1:N\n",
    "        #println(\"t=\",t)\n",
    "        #println(\"μ=\",μ)\n",
    "        #println(\"σ²=\",σ²)\n",
    "        #print(\"a=\", pdf(Normal(μ[1][1], sqrt(σ²[1])),1))\n",
    "        probs = [π[k] * pdf(Normal(μ[k][1], sqrt(σ²[k])),R[t]) for k in 1:K]\n",
    "        #w=[Weights(probs[i]) for i in 1:K]\n",
    "        w=Weights(probs)\n",
    "        #println(\"w=\",w)\n",
    "        z[t] = sample(1:K, w)\n",
    "    end\n",
    "    \n",
    "    return z\n",
    "end"
   ]
  },
  {
   "cell_type": "code",
   "execution_count": 4,
   "metadata": {},
   "outputs": [
    {
     "ename": "Base.Meta.ParseError",
     "evalue": "ParseError:\n# Error @ /Users/stirlitz/ncGitHub/daily_options/daily_options1/jl_notebook_cell_df34fa98e69747e1a8f8a730347b8e2f_W4sZmlsZQ==.jl:6:2\n#sample(1:3, w[1])\nw\n#└ ── Expected `]`",
     "output_type": "error",
     "traceback": [
      "ParseError:\n",
      "# Error @ /Users/stirlitz/ncGitHub/daily_options/daily_options1/jl_notebook_cell_df34fa98e69747e1a8f8a730347b8e2f_W4sZmlsZQ==.jl:6:2\n",
      "#sample(1:3, w[1])\n",
      "w\n",
      "#└ ── Expected `]`\n",
      "\n",
      "Stacktrace:\n",
      " [1] top-level scope\n",
      "   @ ~/ncGitHub/daily_options/daily_options1/jl_notebook_cell_df34fa98e69747e1a8f8a730347b8e2f_W4sZmlsZQ==.jl:6"
     ]
    }
   ],
   "source": [
    "bla=Normal(μ[1][1], sqrt(σ²[1]))\n",
    "probs=[pdf(bla, R)\n",
    "w=Weights(probs)\n",
    "w=[Weights(probs[i]) for i in 1:3]\n",
    "#sample(1:3, w[1])\n",
    "w"
   ]
  },
  {
   "cell_type": "code",
   "execution_count": 5,
   "metadata": {},
   "outputs": [
    {
     "data": {
      "text/plain": [
       "update_parameters (generic function with 1 method)"
      ]
     },
     "metadata": {},
     "output_type": "display_data"
    }
   ],
   "source": [
    "function update_parameters(R, z, K, μ_0, λ_0, α_0, β_0)\n",
    "    μ = Vector{Float64}(undef, K)\n",
    "    σ² = Vector{Float64}(undef, K)\n",
    "    n_k = counts(z, 1:K)  # Correctly counts points per cluster\n",
    "    \n",
    "    for k in 1:K\n",
    "        assigned_points = R[z .== k]  # Points assigned to cluster k\n",
    "        \n",
    "        if n_k[k] > 0\n",
    "            # Update parameters for cluster k\n",
    "            R̄_k = mean(assigned_points)\n",
    "            μ_post = (λ_0 * μ_0 + n_k[k] * R̄_k) / (λ_0 + n_k[k])\n",
    "            λ_post = λ_0 + n_k[k]\n",
    "            α_post = α_0 + n_k[k] / 2\n",
    "            β_post = β_0 + sum((assigned_points .- R̄_k).^2) / 2 +\n",
    "                      λ_0 * n_k[k] * (R̄_k - μ_0)^2 / (2 * λ_post)\n",
    "            \n",
    "            # Sample from posterior\n",
    "            #println(\"σ²=\",σ²)\n",
    "            #println(\"k=$k, μ_post=$μ_post, λ_post=$λ_post, α_post=$α_post, β_post=$β_post, R̄_k=$R̄_k\")\n",
    "            σ²[k] = rand(InverseGamma(α_post, β_post))\n",
    "            μ[k] = rand(Normal(μ_post, sqrt(σ²[k] / λ_post)))\n",
    "        else\n",
    "            # Use prior if no points are assigned to cluster k\n",
    "            μ[k] = rand(Normal(μ_0, sqrt(1 / λ_0)))\n",
    "            σ²[k] = rand(InverseGamma(α_0, β_0))\n",
    "        end\n",
    "    end\n",
    "    \n",
    "    # Sample new mixture weights using Dirichlet posterior\n",
    "    π = rand(Dirichlet(n_k .+ 1))\n",
    "    \n",
    "    return μ, σ², π #, μ_post, λ_post, α_post, β_post\n",
    "end"
   ]
  },
  {
   "cell_type": "code",
   "execution_count": 6,
   "metadata": {},
   "outputs": [
    {
     "data": {
      "text/plain": [
       "gibbs_sampling (generic function with 1 method)"
      ]
     },
     "metadata": {},
     "output_type": "display_data"
    }
   ],
   "source": [
    "function gibbs_sampling(R, K, iterations)\n",
    "    N = length(R)\n",
    "    D = 1  # 1D data\n",
    "    \n",
    "    # Prior parameters\n",
    "    μ_0 = 0.0\n",
    "    λ_0 = 1.0\n",
    "    α_0 = 2.0\n",
    "    β_0 = 2.0\n",
    "    println(\"Prior: μ_0 = $μ_0, λ_0 = $λ_0, α_0 = $α_0, β_0 = $β_0\")\n",
    "\n",
    "    # Initialize parameters\n",
    "    μ, σ², π = initialize_parameters(K, D)\n",
    "    #μ=[0,5]\n",
    "    #σ²=[0,5]\n",
    "    z = sample_assignments(R, μ, σ², π, K)\n",
    "    println(\"Initial: Means = $μ, Variances = $σ², Weights = $π\")\n",
    "    println(\"Initial assignments: $z\")\n",
    "\n",
    "    # Perform Gibbs Sampling\n",
    "    for iter in 1:iterations\n",
    "        z = sample_assignments(R, μ, σ², π, K)\n",
    "        μ, σ², π = update_parameters(R, z, K, μ_0, λ_0, α_0, β_0)\n",
    "        \n",
    "        println(\"Iteration $iter: Means = $μ, Variances = $σ², Weights = $π\")\n",
    "        #println(\"u_0=$μ_0, λ_0=$λ_0, α_0=$α_0, β_0=$β_0\")\n",
    "    end\n",
    "\n",
    "    return μ, σ², π, z\n",
    "end"
   ]
  },
  {
   "cell_type": "code",
   "execution_count": null,
   "metadata": {},
   "outputs": [
    {
     "name": "stdout",
     "output_type": "stream",
     "text": [
      "Prior: μ_0 = 0.0, λ_0 = 1.0, α_0 = 2.0, β_0 = 2.0\n",
      "Means = [-0.041602628984714146, 0.14790233402293687], Variances = [1.1291827683260565, 3.0576819726926745], Weights = [0.545549798036791, 0.45445020196320896],  true means = [0, 0.0], true variances = [0.01, 0.03]\n",
      "true means: [0.0, 0.0], true variances: [1, 9]\n"
     ]
    },
    {
     "ename": "DimensionMismatch",
     "evalue": "DimensionMismatch: column :iteration has length 1000 and column :μ has length 2",
     "output_type": "error",
     "traceback": [
      "DimensionMismatch: column :iteration has length 1000 and column :μ has length 2\n",
      "\n",
      "Stacktrace:\n",
      " [1] DataFrame(columns::Vector{Any}, colindex::DataFrames.Index; copycols::Bool)\n",
      "   @ DataFrames ~/.julia/packages/DataFrames/kcA9R/src/dataframe/dataframe.jl:212\n",
      " [2] DataFrame\n",
      "   @ ~/.julia/packages/DataFrames/kcA9R/src/dataframe/dataframe.jl:193 [inlined]\n",
      " [3] DataFrame(; kwargs::@Kwargs{iteration::UnitRange{Int64}, μ::Vector{Float64}, σ::Vector{Float64}, π::Vector{Float64}})\n",
      "   @ DataFrames ~/.julia/packages/DataFrames/kcA9R/src/dataframe/dataframe.jl:332\n",
      " [4] top-level scope\n",
      "   @ ~/ncGitHub/daily_options/daily_options1/jl_notebook_cell_df34fa98e69747e1a8f8a730347b8e2f_X10sZmlsZQ==.jl:23"
     ]
    }
   ],
   "source": [
    "# Generate synthetic data\n",
    "using DataFrames\n",
    "include(\"gibbs_sampling.jl\")\n",
    "true_means = [0.0, 0.0]\n",
    "true_std = [1, 3]\n",
    "true_variances = true_std.^2\n",
    "R = vcat(rand(Normal(true_means[1], true_std[1]), 1000), rand(Normal(true_means[2], true_std[2]), 1000))\n",
    "#Random.seed!(42)\n",
    "z_true = vcat(ones(Int, 1000), 2*ones(Int, 1000))\n",
    "means_sample=[mean(R[z_true.==1]), mean(R[z_true.==2])]\n",
    "variances_sample=[var(R[z_true.==1]), var(R[z_true.==2])]\n",
    "std_sample=sqrt.(variances_sample)\n",
    "\n",
    "# Run Gibbs Sampling\n",
    "K = 2   # Number of clusters\n",
    "iterations = 1000\n",
    "μ, σ², π, z = gibbs_sampling(R, K, iterations)\n",
    "σ=sqrt.(σ²)\n",
    "sample_cluster_means=[]\n",
    "println(\"Means = $μ, Variances = $σ, Weights = $π,  true means = [0, 0.0], true variances = [0.01, 0.03]\")\n",
    "println(\"true means: $true_means, true variances: $true_variances\")\n",
    "\n",
    "#df_summary=DataFrame(iteration=1:iterations, μ=μ, σ=σ, π=π)\n",
    "\n"
   ]
  },
  {
   "cell_type": "code",
   "execution_count": 21,
   "metadata": {},
   "outputs": [
    {
     "data": {
      "text/plain": [
       "1.0163093482362437"
      ]
     },
     "metadata": {},
     "output_type": "display_data"
    }
   ],
   "source": [
    "std(R[1:1000])"
   ]
  },
  {
   "cell_type": "code",
   "execution_count": 23,
   "metadata": {},
   "outputs": [
    {
     "data": {
      "text/plain": [
       "13.347926719671301"
      ]
     },
     "metadata": {},
     "output_type": "display_data"
    }
   ],
   "source": [
    "var(R)\n",
    "σ²[1]*π[1]+σ²[2]*π[2]+σ²[3]*π[3]\n",
    "#σ²[2]\n",
    "#var_theory=25*.5+1*.5"
   ]
  },
  {
   "cell_type": "code",
   "execution_count": 49,
   "metadata": {},
   "outputs": [
    {
     "data": {
      "text/plain": [
       "2"
      ]
     },
     "metadata": {},
     "output_type": "display_data"
    }
   ],
   "source": [
    "K=3\n",
    "probs = [π[k] * pdf(Normal(μ[k][1], sqrt(σ²[k])), 1) for k in 1:K]\n",
    "w=Weights(probs)\n",
    "#w=[.1,.2,.7]\n",
    "#sample(1:K, w)\n",
    "\n",
    "#sample(1:K, Weights(w))\n",
    "# Example of using the sample method with generated inputs\n",
    "#generated_probs = [0.2, 0.5, 0.3]\n",
    "#generated_weights = Weights(generated_probs)\n",
    "sample(1:3, w)"
   ]
  },
  {
   "cell_type": "code",
   "execution_count": 19,
   "metadata": {},
   "outputs": [
    {
     "data": {
      "text/plain": [
       "200-element Vector{Int64}:\n",
       " 2\n",
       " 2\n",
       " 2\n",
       " 2\n",
       " 1\n",
       " 2\n",
       " 1\n",
       " 1\n",
       " 2\n",
       " 2\n",
       " ⋮\n",
       " 2\n",
       " 2\n",
       " 2\n",
       " 1\n",
       " 2\n",
       " 2\n",
       " 1\n",
       " 2\n",
       " 2"
      ]
     },
     "metadata": {},
     "output_type": "display_data"
    }
   ],
   "source": [
    "z"
   ]
  }
 ],
 "metadata": {
  "kernelspec": {
   "display_name": "Julia 1.11.3",
   "language": "julia",
   "name": "julia-1.11"
  },
  "language_info": {
   "file_extension": ".jl",
   "mimetype": "application/julia",
   "name": "julia",
   "version": "1.11.3"
  }
 },
 "nbformat": 4,
 "nbformat_minor": 2
}
