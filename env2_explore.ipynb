{
 "cells": [
  {
   "cell_type": "code",
   "execution_count": 26,
   "metadata": {},
   "outputs": [
    {
     "data": {
      "text/plain": [
       "datetime.datetime(2024, 9, 20, 10, 0, tzinfo=<DstTzInfo 'US/Eastern' LMT-1 day, 19:04:00 STD>)"
      ]
     },
     "execution_count": 26,
     "metadata": {},
     "output_type": "execute_result"
    }
   ],
   "source": [
    " datetime.datetime(2024, 9, 20, 10, 0, 0, tzinfo=pytz.timezone('US/Eastern'))\n"
   ]
  },
  {
   "cell_type": "code",
   "execution_count": 28,
   "metadata": {},
   "outputs": [],
   "source": [
    "class Recorder:\n",
    "    def __init__(self):\n",
    "        self.history = []\n",
    "\n",
    "    def log(self, timestamp, position, pnl, risk):\n",
    "        self.history.append({\n",
    "            'timestamp': timestamp,\n",
    "            'position': position,\n",
    "            'pnl': pnl,\n",
    "            'risk': risk\n",
    "        })\n",
    "\n",
    "    def reset(self):\n",
    "        self.history = []  # Clears history between episodes\n",
    "\n",
    "    def get_history(self):\n",
    "        return pd.DataFrame(self.history)"
   ]
  },
  {
   "cell_type": "code",
   "execution_count": null,
   "metadata": {},
   "outputs": [],
   "source": [
    "my_recorder = Recorder()\n",
    "my_recorder.log(\n",
    "    timestamp=minute,\n",
    "    position=0,\n",
    "    pnl=0,\n",
    "    risk=0\n",
    ")"
   ]
  },
  {
   "cell_type": "code",
   "execution_count": 33,
   "metadata": {},
   "outputs": [],
   "source": [
    "import pandas as pd\n",
    "\n",
    "portfolio = pd.DataFrame({\n",
    "    'instrument': ['AAPL', 'SPX', 'MSFT'],\n",
    "    'type': ['call', 'put', 'call'],\n",
    "    'strike': [150, 4500, 320],\n",
    "    'expiry': [pd.Timestamp('2024-04-19')] * 3,\n",
    "    'quantity': [10, -5, 20]\n",
    "})"
   ]
  },
  {
   "cell_type": "code",
   "execution_count": 1,
   "metadata": {},
   "outputs": [],
   "source": [
    "class PortfolioPricer:\n",
    "    def __init__(self, pricing_function):\n",
    "        self.pricing_function = pricing_function  # Your existing vectorized function\n",
    "\n",
    "    def price_portfolio(self, portfolio_df, spot_price, vol, risk_free_rate, valuation_date):\n",
    "        prices = self.pricing_function(\n",
    "            spot=spot_price,\n",
    "            types=portfolio_df['type'].values,\n",
    "            strikes=portfolio_df['strike'].values,\n",
    "            expiry=portfolio_df['expiry'].values,\n",
    "            valuation_date=valuation_date,\n",
    "            option_types=portfolio_df['type'].values,\n",
    "            vol=vol,\n",
    "            risk_free_rate=risk_free_rate\n",
    "        )\n",
    "        \n",
    "        portfolio_df = portfolio_df.copy()\n",
    "        portfolio_df['price'] = prices\n",
    "        portfolio_df['value'] = portfolio_df['price'] * portfolio_df['quantity']\n",
    "        return portfolio_df\n",
    "\n",
    "    def total_portfolio_value(self, priced_portfolio_df):\n",
    "        return priced_portfolio_df['value'].sum()"
   ]
  },
  {
   "cell_type": "code",
   "execution_count": 2,
   "metadata": {},
   "outputs": [],
   "source": [
    "class Portfolio:\n",
    "    def __init__(self, portfolio_df, pricer):\n",
    "        self.portfolio_df = portfolio_df\n",
    "        self.pricer = pricer\n",
    "\n",
    "    def price(self, spot_price, vol, risk_free_rate, valuation_date):\n",
    "        priced_portfolio = self.pricer.price_portfolio(\n",
    "            self.portfolio_df,\n",
    "            spot_price,\n",
    "            vol,\n",
    "            risk_free_rate,\n",
    "            valuation_date\n",
    "        )\n",
    "        return priced_portfolio\n",
    "\n",
    "    def total_value(self, priced_portfolio_df):\n",
    "        return self.pricer.total_portfolio_value(priced_portfolio_df)"
   ]
  },
  {
   "cell_type": "code",
   "execution_count": 8,
   "metadata": {},
   "outputs": [
    {
     "ename": "NameError",
     "evalue": "name 'portfolio' is not defined",
     "output_type": "error",
     "traceback": [
      "\u001b[0;31m---------------------------------------------------------------------------\u001b[0m",
      "\u001b[0;31mNameError\u001b[0m                                 Traceback (most recent call last)",
      "Cell \u001b[0;32mIn[8], line 22\u001b[0m\n\u001b[1;32m     18\u001b[0m pricer \u001b[38;5;241m=\u001b[39m PortfolioPricer(pricing_function\u001b[38;5;241m=\u001b[39mprice_instrument)\n\u001b[1;32m     21\u001b[0m \u001b[38;5;66;03m# Price portfolio\u001b[39;00m\n\u001b[0;32m---> 22\u001b[0m priced_portfolio \u001b[38;5;241m=\u001b[39m pricer\u001b[38;5;241m.\u001b[39mprice_portfolio(\u001b[43mportfolio\u001b[49m, spot_price, vol, risk_free_rate, valuation_date)\n\u001b[1;32m     23\u001b[0m total_value \u001b[38;5;241m=\u001b[39m pricer\u001b[38;5;241m.\u001b[39mtotal_portfolio_value(priced_portfolio)\n\u001b[1;32m     25\u001b[0m \u001b[38;5;28mprint\u001b[39m(priced_portfolio)\n",
      "\u001b[0;31mNameError\u001b[0m: name 'portfolio' is not defined"
     ]
    }
   ],
   "source": [
    "# Example market parameters\n",
    "import pandas as pd\n",
    "import py_vollib_vectorized\n",
    "\n",
    "def price_instrument(cp, strike, spot, texp, vol):\n",
    "    #if self.debug:\n",
    "    #    print(f\"cp={cp}\\n, strike={strike}\\n, spot={spot}\\n, texp={texp}\\n, vol={vol}\\n\")\n",
    "    #print(f\"pricing_insturment sizes: cp={cp}, strike={strike.shape}, spot={spot.shape}, texp={texp.shape}, vol={vol.shape}\")\n",
    "    return py_vollib_vectorized.models.vectorized_black_scholes(cp, spot, strike, texp, 0, vol,return_as=\"numpy\")\n",
    "\n",
    "\n",
    "spot_price = 4400\n",
    "vol = 0.20\n",
    "risk_free_rate = 0.02\n",
    "valuation_date = pd.Timestamp('2024-04-01')\n",
    "\n",
    "# Instantiate pricer with your vectorized function\n",
    "pricer = PortfolioPricer(pricing_function=price_instrument)\n",
    "\n",
    "\n",
    "# Price portfolio\n",
    "priced_portfolio = pricer.price_portfolio(portfolio, spot_price, vol, risk_free_rate, valuation_date)\n",
    "total_value = pricer.total_portfolio_value(priced_portfolio)\n",
    "\n",
    "print(priced_portfolio)\n",
    "print(f'Total Portfolio Value: {total_value}')"
   ]
  },
  {
   "cell_type": "code",
   "execution_count": 4,
   "metadata": {},
   "outputs": [
    {
     "ename": "NameError",
     "evalue": "name 'pd' is not defined",
     "output_type": "error",
     "traceback": [
      "\u001b[0;31m---------------------------------------------------------------------------\u001b[0m",
      "\u001b[0;31mNameError\u001b[0m                                 Traceback (most recent call last)",
      "Cell \u001b[0;32mIn[4], line 4\u001b[0m\n\u001b[1;32m      1\u001b[0m \u001b[38;5;28;01mfrom\u001b[39;00m\u001b[38;5;250m \u001b[39m\u001b[38;5;21;01mdataclasses\u001b[39;00m\u001b[38;5;250m \u001b[39m\u001b[38;5;28;01mimport\u001b[39;00m dataclass, field\n\u001b[1;32m      2\u001b[0m \u001b[38;5;28;01mfrom\u001b[39;00m\u001b[38;5;250m \u001b[39m\u001b[38;5;21;01mtyping\u001b[39;00m\u001b[38;5;250m \u001b[39m\u001b[38;5;28;01mimport\u001b[39;00m List, Dict\n\u001b[1;32m      3\u001b[0m \u001b[38;5;129;43m@dataclass\u001b[39;49m\n\u001b[0;32m----> 4\u001b[0m \u001b[38;5;28;43;01mclass\u001b[39;49;00m\u001b[38;5;250;43m \u001b[39;49m\u001b[38;5;21;43;01mOptionPosition\u001b[39;49;00m\u001b[43m:\u001b[49m\n\u001b[1;32m      5\u001b[0m \u001b[43m    \u001b[49m\u001b[43munderlying\u001b[49m\u001b[43m:\u001b[49m\u001b[43m \u001b[49m\u001b[38;5;28;43mstr\u001b[39;49m\n\u001b[1;32m      6\u001b[0m \u001b[43m    \u001b[49m\u001b[43moption_type\u001b[49m\u001b[43m:\u001b[49m\u001b[43m \u001b[49m\u001b[38;5;28;43mstr\u001b[39;49m\n",
      "Cell \u001b[0;32mIn[4], line 8\u001b[0m, in \u001b[0;36mOptionPosition\u001b[0;34m()\u001b[0m\n\u001b[1;32m      6\u001b[0m option_type: \u001b[38;5;28mstr\u001b[39m\n\u001b[1;32m      7\u001b[0m strike: \u001b[38;5;28mfloat\u001b[39m\n\u001b[0;32m----> 8\u001b[0m expiry: \u001b[43mpd\u001b[49m\u001b[38;5;241m.\u001b[39mTimestamp\n\u001b[1;32m      9\u001b[0m quantity: \u001b[38;5;28mint\u001b[39m\n\u001b[1;32m     10\u001b[0m price_history: pd\u001b[38;5;241m.\u001b[39mSeries \u001b[38;5;241m=\u001b[39m field(default_factory\u001b[38;5;241m=\u001b[39m\u001b[38;5;28;01mlambda\u001b[39;00m: pd\u001b[38;5;241m.\u001b[39mSeries(dtype\u001b[38;5;241m=\u001b[39m\u001b[38;5;124m'\u001b[39m\u001b[38;5;124mfloat64\u001b[39m\u001b[38;5;124m'\u001b[39m))\n",
      "\u001b[0;31mNameError\u001b[0m: name 'pd' is not defined"
     ]
    }
   ],
   "source": [
    "from dataclasses import dataclass, field\n",
    "from typing import List, Dict\n",
    "@dataclass\n",
    "class OptionPosition:\n",
    "    underlying: str\n",
    "    option_type: str\n",
    "    strike: float\n",
    "    expiry: pd.Timestamp\n",
    "    quantity: int\n",
    "    price_history: pd.Series = field(default_factory=lambda: pd.Series(dtype='float64'))\n",
    "\n",
    "    def record_price(self, timestamp, price):\n",
    "        self.price_history.loc[timestamp] = price\n",
    "\n",
    "@dataclass\n",
    "class Portfolio:\n",
    "    positions: List[OptionPosition] = field(default_factory=list)\n",
    "\n",
    "    def add_position(self, position: OptionPosition):\n",
    "        self.positions.append(position)\n",
    "\n",
    "    def record_prices(self, timestamp, prices: Dict[str, float]):\n",
    "        for pos in self.positions:\n",
    "            key = f\"{pos.underlying}_{pos.option_type}_{pos.strike}_{pos.expiry.date()}\"\n",
    "            if key in prices:\n",
    "                pos.record_price(timestamp, prices[key])\n",
    "\n",
    "# Usage example:\n",
    "portfolio = Portfolio()\n",
    "pos = OptionPosition('SPX', 'call', 4500, pd.Timestamp('2024-04-19'), 10)\n",
    "portfolio.add_position(pos)\n",
    "\n",
    "portfolio.record_prices(pd.Timestamp('2024-03-25 09:30'), {'SPX_call_4500_2024-04-19': 45.5})\n",
    "portfolio.record_prices(pd.Timestamp('2024-03-25 09:31'), {'SPX_call_4500_2024-04-19': 46.0})\n",
    "\n",
    "print(pos.price_history)"
   ]
  },
  {
   "cell_type": "code",
   "execution_count": 10,
   "metadata": {},
   "outputs": [],
   "source": [
    "import pandas as pd\n",
    "\n",
    "class Portfolio:\n",
    "    def __init__(self):\n",
    "       self.positions = pd.DataFrame({\n",
    "            'instrument_type': pd.Series(dtype='str'),\n",
    "            'underlying': pd.Series(dtype='str'),\n",
    "            'quantity': pd.Series(dtype='float'),\n",
    "            'option_type': pd.Series(dtype='str'),\n",
    "            'strike': pd.Series(dtype='float'),\n",
    "            'expiry': pd.Series(dtype='datetime64[ns]')\n",
    "})\n",
    "\n",
    "    def add_position(self, instrument_type, underlying, quantity, option_type=pd.NA, strike=pd.NA, expiry=pd.NaT):\n",
    "        expiry = pd.Timestamp(expiry) if expiry else None\n",
    "\n",
    "        mask = (\n",
    "            (self.positions['instrument_type'] == instrument_type) &\n",
    "            (self.positions['underlying'] == underlying) &\n",
    "            (self.positions['option_type'] == option_type) &\n",
    "            (self.positions['strike'] == strike) &\n",
    "            (self.positions['expiry'] == expiry)\n",
    "        )\n",
    "\n",
    "        if mask.any():\n",
    "            self.positions.loc[mask, 'quantity'] += quantity\n",
    "        else:\n",
    "            if (instrument_type == 'option'):\n",
    "                new_row = {\n",
    "                    'instrument_type': instrument_type,\n",
    "                    'underlying': underlying,\n",
    "                    'quantity': quantity,\n",
    "                    'option_type': option_type,\n",
    "                    'strike': strike,\n",
    "                    'expiry': expiry\n",
    "                }\n",
    "            elif (instrument_type == 'stock'):\n",
    "                new_row = {\n",
    "                    'instrument_type': instrument_type,\n",
    "                    'underlying': underlying,\n",
    "                    'quantity': quantity\n",
    "                }\n",
    "            #print(f\"Adding new position: {new_row}\")\n",
    "            self.positions = pd.concat([self.positions, pd.DataFrame([new_row])], ignore_index=True)\n",
    "\n",
    "    def add_option(self, underlying, quantity, option_type, strike, expiry):\n",
    "        self.add_position('option', underlying, quantity, option_type, strike, expiry)\n",
    "\n",
    "    def add_stock(self, underlying, quantity):\n",
    "        self.add_position('stock', underlying, quantity)\n",
    "\n",
    "    def get_positions(self):\n",
    "        return self.positions"
   ]
  },
  {
   "cell_type": "code",
   "execution_count": 19,
   "metadata": {},
   "outputs": [],
   "source": [
    "import pandas as pd\n",
    "import datetime\n",
    "import pytz\n",
    "\n",
    "class TradeLedger:\n",
    "    def __init__(self):\n",
    "        self.trades_list = []\n",
    "\n",
    "    def record_trade(self, timestamp, action, instrument_type, underlying, option_type, strike, expiry, quantity, price):\n",
    "        new_trade = {\n",
    "            'timestamp': timestamp,\n",
    "            'action': action,  # 'buy' or 'sell'\n",
    "            'instrument_type': instrument_type,\n",
    "            'underlying': underlying,\n",
    "            'option_type': option_type,\n",
    "            'strike': strike,\n",
    "            'expiry': expiry,\n",
    "            'quantity': quantity,\n",
    "            'price': price,\n",
    "            'signed_quantity': quantity if action == 'buy' else -quantity,\n",
    "            'total_cost': quantity * price\n",
    "        }\n",
    "        self.trades_list.append(new_trade)\n",
    "\n",
    "    @property\n",
    "    def trades(self):\n",
    "        #return pd.DataFrame(self.trades_list)\n",
    "        return pd.DataFrame(self.trades_list).sort_values(by='timestamp').reset_index(drop=True)\n",
    "        #return self.trades_list\n",
    "\n",
    "\n",
    "class Portfolio:\n",
    "    def __init__(self, ledger: TradeLedger):\n",
    "        self.ledger = ledger\n",
    "        self.positions = pd.DataFrame({\n",
    "            'instrument_type': pd.Series(dtype='str'),\n",
    "            'underlying': pd.Series(dtype='str'),\n",
    "            'quantity': pd.Series(dtype='float'),\n",
    "            'option_type': pd.Series(dtype='str'),\n",
    "            'strike': pd.Series(dtype='float'),\n",
    "            'expiry': pd.Series(dtype='datetime64[ns]')\n",
    "        })\n",
    "\n",
    "    def add_position(self, timestamp, instrument_type, underlying, quantity, price, option_type=None, strike=None, expiry=None):\n",
    "        expiry = pd.Timestamp(expiry) if expiry else pd.NaT\n",
    "        expiry = expiry.replace(hour=16, minute=17) if not pd.isna(expiry) else expiry\n",
    "\n",
    "        mask = (\n",
    "            (self.positions['instrument_type'] == instrument_type) &\n",
    "            (self.positions['underlying'] == underlying) &\n",
    "            (self.positions['option_type'] == option_type) &\n",
    "            (self.positions['strike'] == strike) &\n",
    "            (self.positions['expiry'] == expiry)\n",
    "        )\n",
    "\n",
    "        if mask.any():\n",
    "            print(f\"Updating existing position: {self.positions[mask]}\")\n",
    "            self.positions.loc[mask, 'quantity'] += quantity\n",
    "        else:\n",
    "            if (instrument_type == 'option'):\n",
    "                new_row = {\n",
    "                    'instrument_type': instrument_type,\n",
    "                    'underlying': underlying,\n",
    "                    'quantity': quantity,\n",
    "                    'option_type': option_type,\n",
    "                    'strike': strike,\n",
    "                    'expiry': expiry\n",
    "                }\n",
    "            elif (instrument_type == 'stock'):\n",
    "                new_row = {\n",
    "                    'instrument_type': instrument_type,\n",
    "                    'underlying': underlying,\n",
    "                    'quantity': quantity\n",
    "                }\n",
    "            #print(f\"Adding new position: {new_row}\")\n",
    "            self.positions = pd.concat([self.positions, pd.DataFrame([new_row])])\n",
    "            #self.positions = pd.concat([self.positions, pd.DataFrame([new_row])], ignore_index=True)\n",
    "\n",
    "        if quantity > 0:\n",
    "            action = 'buy'\n",
    "        elif quantity < 0:\n",
    "            action = 'sell'\n",
    "        else:\n",
    "            action = 'none'\n",
    "\n",
    "        if action != 'none':\n",
    "            self.ledger.record_trade(timestamp, action, instrument_type, underlying, option_type, strike, expiry, quantity, price)\n",
    "\n",
    "    def add_option(self, timestamp, underlying, quantity, option_type, strike, expiry, price):\n",
    "        self.add_position(timestamp, 'option', underlying, quantity, price, option_type, strike, expiry)\n",
    "\n",
    "    def add_stock(self, timestamp, underlying, quantity, price):\n",
    "        self.add_position(timestamp, 'stock', underlying, quantity, price)\n",
    "\n",
    "    def get_positions(self):\n",
    "        return self.positions\n",
    "\n",
    "    def get_ledger(self):\n",
    "        return self.ledger.trades"
   ]
  },
  {
   "cell_type": "code",
   "execution_count": 20,
   "metadata": {},
   "outputs": [
    {
     "name": "stdout",
     "output_type": "stream",
     "text": [
      "added the new instruments\n",
      "  instrument_type underlying  quantity option_type  strike  \\\n",
      "0          option        SPY      10.0        call   100.0   \n",
      "0          option        SPY      10.0         put   100.0   \n",
      "\n",
      "                      expiry  \n",
      "0  2024-04-19 16:17:00-04:00  \n",
      "0  2024-04-19 16:17:00-04:00  \n",
      "                         timestamp action instrument_type underlying  \\\n",
      "0 2025-04-04 11:51:20.745708-04:00    buy          option        SPY   \n",
      "1 2025-04-04 11:51:20.745708-04:00    buy          option        SPY   \n",
      "\n",
      "  option_type  strike                    expiry  quantity  price  \\\n",
      "0        call     100 2024-04-19 16:17:00-04:00        10    7.5   \n",
      "1         put     100 2024-04-19 16:17:00-04:00        10    7.5   \n",
      "\n",
      "   signed_quantity  total_cost  \n",
      "0               10        75.0  \n",
      "1               10        75.0  \n",
      "cost=150.0\n"
     ]
    }
   ],
   "source": [
    "from zoneinfo import ZoneInfo\n",
    "ledger= TradeLedger()\n",
    "portfolio = Portfolio(ledger=ledger)\n",
    "\n",
    "t = pd.Timestamp(datetime.datetime.now(tz=ZoneInfo('US/Eastern')))\n",
    "# Initial positions\n",
    "#portfolio.add_option(t,'SPX', 10,'call', 4500, '2024-04-19',15)\n",
    "#portfolio.add_stock(t,'MSFT',15, 200)\n",
    "\n",
    "# Add more positions (existing)\n",
    "#portfolio.add_option(t,'SPX', 5,'call', 4500, '2024-04-19',25)\n",
    "#portfolio.add_option(t,'SPX', 5,'call', 4400, '2024-04-19',25)\n",
    "print(\"added the new instruments\")\n",
    "#portfolio.add_stock(t,'MSFT', -20,200)\n",
    "\n",
    "# Check positions\n",
    "#print(portfolio.get_positions())\n",
    "#print(portfolio.get_ledger())\n",
    "def add_straddle_position(portfolio, underlying, quantity, strike, expiry, price,t):\n",
    "    portfolio.add_option(t,underlying, quantity, 'call', strike, expiry, price/2)\n",
    "    portfolio.add_option(t,underlying, quantity, 'put', strike, expiry, price/2)\n",
    "\n",
    "expiry = pd.Timestamp(\"2024-04-19 16:17\", tz=\"US/Eastern\")\n",
    "add_straddle_position(portfolio, 'SPY', 10, 100, expiry, 15, t)\n",
    "print(portfolio.get_positions())\n",
    "print(portfolio.get_ledger())\n",
    "print(f\"cost={portfolio.get_ledger().total_cost.sum()}\")"
   ]
  },
  {
   "cell_type": "code",
   "execution_count": 5,
   "metadata": {},
   "outputs": [
    {
     "data": {
      "text/plain": [
       "Timestamp('2024-04-19 16:17:00-0400', tz='US/Eastern')"
      ]
     },
     "execution_count": 5,
     "metadata": {},
     "output_type": "execute_result"
    }
   ],
   "source": [
    "#expiry= pd.Timestamp(\"2024-04-19\", tz=ZoneInfo('US/Eastern'))\n",
    "#expiry = expiry.replace(hour=16, minute=17)\n",
    "expiry = pd.Timestamp(\"2024-04-19 16:17\", tz=\"US/Eastern\")\n",
    "expiry"
   ]
  },
  {
   "cell_type": "code",
   "execution_count": 7,
   "metadata": {},
   "outputs": [],
   "source": [
    "start_time= pd.Timestamp(\"2024-04-19 9:31\", tz=\"US/Eastern\")\n",
    "end_time= pd.Timestamp(\"2024-04-19 16:01\", tz=\"US/Eastern\")\n",
    "all_minutes= pd.date_range(start=start_time, end=end_time, freq='min')\n",
    "all_minutes\n",
    "\n",
    "all_texp= (expiry - all_minutes).total_seconds()/3600/24/252"
   ]
  },
  {
   "cell_type": "code",
   "execution_count": 29,
   "metadata": {},
   "outputs": [],
   "source": [
    "def apply_quadratic_volatility_model(strikes, spot, atm_vol, slope, quadratic_term, texp_years):\n",
    "    \"\"\"\n",
    "    Apply the quadratic volatility model to new data points.\n",
    "    \n",
    "    Parameters:\n",
    "        strikes (array-like): Array of strike prices.\n",
    "        spot (float): Spot price.\n",
    "        atm_vol (float): At-the-money volatility.\n",
    "        slope (float): Slope of the linear term.\n",
    "        quadratic_term (float): Coefficient of the quadratic term.\n",
    "        texp_years (float): Time to expiration in years.\n",
    "    \n",
    "    Returns:\n",
    "        array-like: Fitted volatilities for the given strikes.\n",
    "    \"\"\"\n",
    "    log_strikes = np.log(strikes) - np.log(spot)\n",
    "    #fitted_vols = atm_vol + (slope / np.sqrt(texp_years)) * log_strikes + quadratic_term * log_strikes**2\n",
    "    fitted_vols = atm_vol + slope * log_strikes + quadratic_term * log_strikes**2\n",
    "    return fitted_vols"
   ]
  },
  {
   "cell_type": "code",
   "execution_count": 30,
   "metadata": {},
   "outputs": [
    {
     "name": "stdout",
     "output_type": "stream",
     "text": [
      "price_df=                           SPY_call_100.0_2024-04-19  SPY_put_100.0_2024-04-19\n",
      "2024-04-19 09:31:00-04:00                   0.266883                  0.266883\n",
      "2024-04-19 09:32:00-04:00                   0.266554                  0.266554\n",
      "2024-04-19 09:33:00-04:00                   0.266225                  0.266225\n",
      "2024-04-19 09:34:00-04:00                   0.265895                  0.265895\n",
      "2024-04-19 09:35:00-04:00                   0.265565                  0.265565\n",
      "...                                              ...                       ...\n",
      "2024-04-19 15:57:00-04:00                   0.059234                  0.059234\n",
      "2024-04-19 15:58:00-04:00                   0.057734                  0.057734\n",
      "2024-04-19 15:59:00-04:00                   0.056195                  0.056195\n",
      "2024-04-19 16:00:00-04:00                   0.054611                  0.054611\n",
      "2024-04-19 16:01:00-04:00                   0.052981                  0.052981\n",
      "\n",
      "[391 rows x 2 columns]\n",
      "portfolio=  instrument_type underlying  quantity option_type  strike  \\\n",
      "0          option        SPY      10.0        call   100.0   \n",
      "0          option        SPY      10.0         put   100.0   \n",
      "\n",
      "                      expiry  \n",
      "0  2024-04-19 16:17:00-04:00  \n",
      "0  2024-04-19 16:17:00-04:00  \n",
      "totoal cost=150.0\n",
      "pnl=-144.66234195215992\n"
     ]
    }
   ],
   "source": [
    "import numpy as np\n",
    "import signals\n",
    "def price_portfolio_old(portfolio, all_times,all_spot,atm_vols,slope_param, quadratic_param):\n",
    "\n",
    "    options_df=portfolio.get_positions()\n",
    "    options_df = options_df[options_df['instrument_type'] == 'option']\n",
    "    num_options=options_df.shape[0]  # Count the number of option positions\n",
    "\n",
    "    num_times=len(all_times)\n",
    "    price_results=[]\n",
    "    price_df = pd.DataFrame(index=all_times)\n",
    "    for row in options_df.itertuples():\n",
    "        row_expiry = row.expiry\n",
    "        if (row_expiry.tz is None):\n",
    "            row_expiry = row.expiry.tz_localize(\"US/Eastern\")\n",
    "        all_texp=(row_expiry-all_times).total_seconds().to_numpy() / (252 * 24 * 60 * 60) \n",
    "\n",
    "        instrument_label = f\"{row.underlying}_{row.option_type}_{row.strike}_{row.expiry.date()}\"\n",
    "        all_types=np.full(num_times, row.option_type[0])\n",
    "        spot_vols=apply_quadratic_volatility_model(row.strike, all_spot, atm_vols, slope_param, quadratic_param, all_texp)\n",
    "        all_prices=signals.price_instrument(all_types,  all_spot, row.strike,all_texp , spot_vols)\n",
    "        price_results.append(all_prices)\n",
    "        price_df[instrument_label]=all_prices\n",
    "\n",
    "        #i=i+1\n",
    "    #texp_vec2=np.concatenate(all_texp)\n",
    "    price_results2=np.stack(price_results, axis=1)\n",
    "\n",
    "    return price_df, price_results2\n",
    "\n",
    "#chatGPT update\n",
    "def price_portfolio(portfolio, all_times, all_spot, atm_vols, slope_param, quadratic_param):\n",
    "    \"\"\"\n",
    "    Prices all options in a portfolio over specified timestamps.\n",
    "\n",
    "    Args:\n",
    "        portfolio (Portfolio): Portfolio object containing options.\n",
    "        all_times (pd.DatetimeIndex): Timestamps at which to price options.\n",
    "        all_spot (np.array or float): Spot price(s) of underlying.\n",
    "        atm_vols (np.array): ATM volatilities at each timestamp.\n",
    "        slope_param (np.array): Slope parameters at each timestamp.\n",
    "        quadratic_param (np.array): Quadratic parameters at each timestamp.\n",
    "\n",
    "    Returns:\n",
    "        price_df (pd.DataFrame): DataFrame of option prices indexed by time.\n",
    "        price_results_array (np.array): Array of computed option prices.\n",
    "    \"\"\"\n",
    "    options_df = portfolio.get_positions()\n",
    "    options_df = options_df[options_df['instrument_type'] == 'option']\n",
    "\n",
    "    num_times = len(all_times)\n",
    "    price_results = []\n",
    "    price_df = pd.DataFrame(index=all_times)\n",
    "\n",
    "    for row in options_df.itertuples():\n",
    "        row_expiry = row.expiry.tz_localize(\"US/Eastern\") if row.expiry.tz is None else row.expiry\n",
    "\n",
    "        all_texp = (row_expiry - all_times).total_seconds().to_numpy() / (252 * 24 * 60 * 60)\n",
    "\n",
    "        instrument_label = f\"{row.underlying}_{row.option_type}_{row.strike}_{row.expiry.date()}\"\n",
    "        all_types = np.full(num_times, row.option_type[0])\n",
    "\n",
    "        spot_vols = apply_quadratic_volatility_model(\n",
    "            row.strike, all_spot, atm_vols, slope_param, quadratic_param, all_texp\n",
    "        )\n",
    "\n",
    "        #print(f\"all_types: {all_types}\")\n",
    "        #print(f\"all_spot: {all_spot}\")\n",
    "        #print(f\"row.strike: {row.strike}\")\n",
    "        #print(f\"all_texp: {all_texp}\")\n",
    "        #print(f\"spot_vols: {spot_vols}\")\n",
    "        #print(f\"pricing_insturment sizes: cp={all_types}, strike={row.strike}, spot={all_spot.shape}, texp={all_texp.shape}, vol={spot_vols.shape}\")\n",
    "        all_prices = signals.price_instrument(\n",
    "            all_types, all_spot, row.strike, all_texp, spot_vols\n",
    "        )\n",
    "\n",
    "        price_results.append(all_prices)\n",
    "        price_df[instrument_label] = all_prices\n",
    "\n",
    "    price_results_array = np.stack(price_results, axis=1)\n",
    "    return price_df, price_results_array\n",
    "\n",
    "def compute_pnl_from_precomputed(portfolio, price_df, current_time):\n",
    "    pnl = 0\n",
    "    positions = portfolio.get_positions()\n",
    "    for pos in positions.itertuples():\n",
    "        if pos.instrument_type == 'option':\n",
    "            instrument_label = f\"{pos.underlying}_{pos.option_type}_{pos.strike}_{pos.expiry.date()}\"\n",
    "        else:\n",
    "            instrument_label = pos.underlying\n",
    "\n",
    "        current_price = price_df.loc[current_time, instrument_label]\n",
    "        pnl += pos.quantity * current_price\n",
    "    return pnl\n",
    "\n",
    "\n",
    "\n",
    "    \n",
    "start_time= pd.Timestamp(\"2024-04-19 9:31\", tz=\"US/Eastern\")\n",
    "end_time= pd.Timestamp(\"2024-04-19 16:01\", tz=\"US/Eastern\")\n",
    "all_minutes= pd.date_range(start=start_time, end=end_time, freq='min')\n",
    "all_minutes\n",
    "\n",
    "for i in range(0, 1000):\n",
    "    num_times=len(all_minutes)\n",
    "    atm_vols=np.full(num_times, 0.2)\n",
    "    slopes=np.full(num_times, 0.1)\n",
    "    quadratic_terms=np.full(num_times, 0.1)\n",
    "    price_df, price_results2=price_portfolio(portfolio, all_minutes, 100, atm_vols, slopes, quadratic_terms)\n",
    "price_df.sum(axis=1)*550/100\n",
    "price_results2\n",
    "print(f'price_df={price_df}')\n",
    "print(f'portfolio={portfolio.get_positions()}')\n",
    "pnl=compute_pnl_from_precomputed(portfolio, price_df, all_minutes[0])- portfolio.get_ledger().total_cost.sum()\n",
    "\n",
    "print(f\"totoal cost={portfolio.get_ledger().total_cost.sum()}\")\n",
    "print(f\"pnl={pnl}\")\n"
   ]
  },
  {
   "cell_type": "code",
   "execution_count": 19,
   "metadata": {},
   "outputs": [],
   "source": [
    "import numpy as np\n",
    "import signals\n",
    "\n",
    "\n",
    "options_df=portfolio.get_positions()\n",
    "options_df = options_df[options_df['instrument_type'] == 'option']\n",
    "num_options=options_df.shape[0]  # Count the number of option positions\n",
    "start_time = pd.Timestamp(\"2024-04-19\").replace(hour=9, minute=31).tz_localize('US/Eastern')\n",
    "end_time=pd.Timestamp(\"2024-04-19\").replace(hour=15, minute=46).tz_localize(\"US/Eastern\")\n",
    "all_times = pd.date_range(start=start_time, end=end_time, freq=\"min\")\n",
    "num_times=len(all_times)\n",
    "texp_vec=np.zeros(num_options*num_times)\n",
    "i=0\n",
    "all_texp=[]\n",
    "price_results=[]\n",
    "#for  (ind,row) in options_df.iterrows():\n",
    "price_df = pd.DataFrame(index=all_times)\n",
    "for row in options_df.itertuples():\n",
    "    #texp_vec[i:i+num_times] =- (all_times - row.expiry.tz_localize(\"US/Eastern\")).total_seconds().to_numpy() / (365 * 24 * 60 * 60)  # Convert to years\n",
    "    #all_texp.append(texp_vec[i:i+num_times])\n",
    "    all_texp=- (all_times - row.expiry).total_seconds().to_numpy() / (365 * 24 * 60 * 60) \n",
    "\n",
    "    instrument_label = f\"{row.underlying}_{row.option_type}_{row.strike}_{row.expiry.date()}\"\n",
    "    #all_texp=texp_vec[i:i+num_times]\n",
    "    all_strikes=np.full(num_times, row.strike)\n",
    "    all_spots=np.full(num_times, 4400.0)\n",
    "    all_vols=np.full(num_times, 0.2)\n",
    "    all_types=np.full(num_times, row.option_type[0])\n",
    "    all_prices=signals.price_instrument(all_types,  all_spots, all_strikes,all_texp , all_vols)\n",
    "    price_results.append(all_prices)\n",
    "    price_df[instrument_label]=all_prices\n",
    "\n",
    "    i=i+1\n",
    "#texp_vec2=np.concatenate(all_texp)\n",
    "price_results2=np.concatenate(price_results)\n",
    "\n"
   ]
  },
  {
   "cell_type": "code",
   "execution_count": 20,
   "metadata": {},
   "outputs": [],
   "source": [
    "def add_straddle(portfolio, timestamp, underlying, quantity, strike, expiry, price):\n",
    "    portfolio.add_option(timestamp, underlying, quantity, 'call', strike, expiry, price/2)\n",
    "    portfolio.add_option(timestamp, underlying, quantity, 'put', strike, expiry, price/2)\n",
    "ledger = TradeLedger()\n",
    "portfolio= Portfolio(ledger=ledger)\n",
    "t = pd.Timestamp(datetime.datetime.now(tz=ZoneInfo('US/Eastern')))\n",
    "# Initial positions\n",
    "add_straddle(portfolio, t, 'SPX', 10, 4500, '2024-04-19', 15)"
   ]
  },
  {
   "cell_type": "code",
   "execution_count": 10,
   "metadata": {},
   "outputs": [
    {
     "data": {
      "application/vnd.microsoft.datawrangler.viewer.v0+json": {
       "columns": [
        {
         "name": "index",
         "rawType": "int64",
         "type": "integer"
        },
        {
         "name": "instrument_type",
         "rawType": "object",
         "type": "string"
        },
        {
         "name": "underlying",
         "rawType": "object",
         "type": "string"
        },
        {
         "name": "quantity",
         "rawType": "float64",
         "type": "float"
        },
        {
         "name": "option_type",
         "rawType": "object",
         "type": "string"
        },
        {
         "name": "strike",
         "rawType": "float64",
         "type": "float"
        },
        {
         "name": "expiry",
         "rawType": "object",
         "type": "unknown"
        }
       ],
       "conversionMethod": "pd.DataFrame",
       "ref": "70842092-ce48-4b2f-b610-e4b31653200b",
       "rows": [
        [
         "0",
         "option",
         "SPY",
         "10.0",
         "call",
         "100.0",
         "2024-04-19 16:17:00-04:00"
        ],
        [
         "0",
         "option",
         "SPY",
         "10.0",
         "put",
         "100.0",
         "2024-04-19 16:17:00-04:00"
        ]
       ],
       "shape": {
        "columns": 6,
        "rows": 2
       }
      },
      "text/html": [
       "<div>\n",
       "<style scoped>\n",
       "    .dataframe tbody tr th:only-of-type {\n",
       "        vertical-align: middle;\n",
       "    }\n",
       "\n",
       "    .dataframe tbody tr th {\n",
       "        vertical-align: top;\n",
       "    }\n",
       "\n",
       "    .dataframe thead th {\n",
       "        text-align: right;\n",
       "    }\n",
       "</style>\n",
       "<table border=\"1\" class=\"dataframe\">\n",
       "  <thead>\n",
       "    <tr style=\"text-align: right;\">\n",
       "      <th></th>\n",
       "      <th>instrument_type</th>\n",
       "      <th>underlying</th>\n",
       "      <th>quantity</th>\n",
       "      <th>option_type</th>\n",
       "      <th>strike</th>\n",
       "      <th>expiry</th>\n",
       "    </tr>\n",
       "  </thead>\n",
       "  <tbody>\n",
       "    <tr>\n",
       "      <th>0</th>\n",
       "      <td>option</td>\n",
       "      <td>SPY</td>\n",
       "      <td>10.0</td>\n",
       "      <td>call</td>\n",
       "      <td>100.0</td>\n",
       "      <td>2024-04-19 16:17:00-04:00</td>\n",
       "    </tr>\n",
       "    <tr>\n",
       "      <th>0</th>\n",
       "      <td>option</td>\n",
       "      <td>SPY</td>\n",
       "      <td>10.0</td>\n",
       "      <td>put</td>\n",
       "      <td>100.0</td>\n",
       "      <td>2024-04-19 16:17:00-04:00</td>\n",
       "    </tr>\n",
       "  </tbody>\n",
       "</table>\n",
       "</div>"
      ],
      "text/plain": [
       "  instrument_type underlying  quantity option_type  strike  \\\n",
       "0          option        SPY      10.0        call   100.0   \n",
       "0          option        SPY      10.0         put   100.0   \n",
       "\n",
       "                      expiry  \n",
       "0  2024-04-19 16:17:00-04:00  \n",
       "0  2024-04-19 16:17:00-04:00  "
      ]
     },
     "execution_count": 10,
     "metadata": {},
     "output_type": "execute_result"
    }
   ],
   "source": [
    "portfolio.positions"
   ]
  },
  {
   "cell_type": "code",
   "execution_count": null,
   "metadata": {},
   "outputs": [],
   "source": [
    "\n",
    "    def price_instrument(self, cp, strike, spot, texp, vol):\n",
    "        #if self.debug:\n",
    "        #    print(f\"cp={cp}\\n, strike={strike}\\n, spot={spot}\\n, texp={texp}\\n, vol={vol}\\n\")\n",
    "        #print(f\"pricing_insturment sizes: cp={cp}, strike={strike.shape}, spot={spot.shape}, texp={texp.shape}, vol={vol.shape}\")\n",
    "        return py_vollib_vectorized.models.vectorized_black_scholes(cp, spot, strike, texp, 0, vol,return_as=\"numpy\")"
   ]
  },
  {
   "cell_type": "code",
   "execution_count": 9,
   "metadata": {},
   "outputs": [
    {
     "data": {
      "application/vnd.microsoft.datawrangler.viewer.v0+json": {
       "columns": [
        {
         "name": "index",
         "rawType": "datetime64[ns, US/Eastern]",
         "type": "unknown"
        },
        {
         "name": "SPX_call_4500.0_2024-04-19",
         "rawType": "float64",
         "type": "float"
        },
        {
         "name": "SPX_call_4400.0_2024-04-19",
         "rawType": "float64",
         "type": "float"
        }
       ],
       "conversionMethod": "pd.DataFrame",
       "ref": "ce52f141-ebc2-4b7c-92be-f3071aaaf695",
       "rows": [
        [
         "2024-04-19 09:31:00-04:00",
         "100.00014600451914",
         "9.757251904106253"
        ],
        [
         "2024-04-19 09:32:00-04:00",
         "100.00014260617874",
         "9.745228206590935"
        ],
        [
         "2024-04-19 09:33:00-04:00",
         "100.00013927177798",
         "9.733189655704432"
        ],
        [
         "2024-04-19 09:34:00-04:00",
         "100.00013600043185",
         "9.721136196263977"
        ],
        [
         "2024-04-19 09:35:00-04:00",
         "100.00013279126229",
         "9.709067772744268"
        ],
        [
         "2024-04-19 09:36:00-04:00",
         "100.0001296433982",
         "9.696984329274475"
        ],
        [
         "2024-04-19 09:37:00-04:00",
         "100.00012655597544",
         "9.684885809635228"
        ],
        [
         "2024-04-19 09:38:00-04:00",
         "100.00012352813684",
         "9.672772157255572"
        ],
        [
         "2024-04-19 09:39:00-04:00",
         "100.00012055903223",
         "9.660643315209875"
        ],
        [
         "2024-04-19 09:40:00-04:00",
         "100.0001176478184",
         "9.648499226214692"
        ],
        [
         "2024-04-19 09:41:00-04:00",
         "100.00011479365915",
         "9.636339832625636"
        ],
        [
         "2024-04-19 09:42:00-04:00",
         "100.00011199572532",
         "9.624165076434176"
        ],
        [
         "2024-04-19 09:43:00-04:00",
         "100.00010925319471",
         "9.611974899264387"
        ],
        [
         "2024-04-19 09:44:00-04:00",
         "100.00010656525215",
         "9.599769242369726"
        ],
        [
         "2024-04-19 09:45:00-04:00",
         "100.00010393108953",
         "9.587548046629689"
        ],
        [
         "2024-04-19 09:46:00-04:00",
         "100.0001013499057",
         "9.575311252546486"
        ],
        [
         "2024-04-19 09:47:00-04:00",
         "100.00009882090664",
         "9.563058800241674"
        ],
        [
         "2024-04-19 09:48:00-04:00",
         "100.00009634330527",
         "9.550790629452717"
        ],
        [
         "2024-04-19 09:49:00-04:00",
         "100.00009391632159",
         "9.538506679529537"
        ],
        [
         "2024-04-19 09:50:00-04:00",
         "100.00009153918265",
         "9.526206889431025"
        ],
        [
         "2024-04-19 09:51:00-04:00",
         "100.00008921112251",
         "9.513891197721485"
        ],
        [
         "2024-04-19 09:52:00-04:00",
         "100.0000869313823",
         "9.501559542567069"
        ],
        [
         "2024-04-19 09:53:00-04:00",
         "100.00008469921018",
         "9.489211861732143"
        ],
        [
         "2024-04-19 09:54:00-04:00",
         "100.00008251386136",
         "9.476848092575631"
        ],
        [
         "2024-04-19 09:55:00-04:00",
         "100.00008037459806",
         "9.464468172047312"
        ],
        [
         "2024-04-19 09:56:00-04:00",
         "100.00007828068959",
         "9.452072036684044"
        ],
        [
         "2024-04-19 09:57:00-04:00",
         "100.00007623141227",
         "9.439659622605998"
        ],
        [
         "2024-04-19 09:58:00-04:00",
         "100.00007422604943",
         "9.427230865512804"
        ],
        [
         "2024-04-19 09:59:00-04:00",
         "100.00007226389147",
         "9.414785700679671"
        ],
        [
         "2024-04-19 10:00:00-04:00",
         "100.0000703442358",
         "9.402324062953431"
        ],
        [
         "2024-04-19 10:01:00-04:00",
         "100.00006846638681",
         "9.389845886748603"
        ],
        [
         "2024-04-19 10:02:00-04:00",
         "100.00006662965598",
         "9.377351106043315"
        ],
        [
         "2024-04-19 10:03:00-04:00",
         "100.00006483336173",
         "9.36483965437528"
        ],
        [
         "2024-04-19 10:04:00-04:00",
         "100.0000630768295",
         "9.35231146483763"
        ],
        [
         "2024-04-19 10:05:00-04:00",
         "100.00006135939175",
         "9.33976647007476"
        ],
        [
         "2024-04-19 10:06:00-04:00",
         "100.00005968038788",
         "9.327204602278103"
        ],
        [
         "2024-04-19 10:07:00-04:00",
         "100.00005803916429",
         "9.314625793181856"
        ],
        [
         "2024-04-19 10:08:00-04:00",
         "100.00005643507431",
         "9.302029974058632"
        ],
        [
         "2024-04-19 10:09:00-04:00",
         "100.00005486747827",
         "9.28941707571511"
        ],
        [
         "2024-04-19 10:10:00-04:00",
         "100.0000533357434",
         "9.276787028487586"
        ],
        [
         "2024-04-19 10:11:00-04:00",
         "100.0000518392439",
         "9.264139762237466"
        ],
        [
         "2024-04-19 10:12:00-04:00",
         "100.00005037736084",
         "9.251475206346752"
        ],
        [
         "2024-04-19 10:13:00-04:00",
         "100.00004894948222",
         "9.238793289713428"
        ],
        [
         "2024-04-19 10:14:00-04:00",
         "100.00004755500292",
         "9.226093940746793"
        ],
        [
         "2024-04-19 10:15:00-04:00",
         "100.00004619332469",
         "9.21337708736277"
        ],
        [
         "2024-04-19 10:16:00-04:00",
         "100.00004486385616",
         "9.200642656979111"
        ],
        [
         "2024-04-19 10:17:00-04:00",
         "100.00004356601275",
         "9.187890576510567"
        ],
        [
         "2024-04-19 10:18:00-04:00",
         "100.00004229921677",
         "9.175120772364007"
        ],
        [
         "2024-04-19 10:19:00-04:00",
         "100.00004106289727",
         "9.162333170433445"
        ],
        [
         "2024-04-19 10:20:00-04:00",
         "100.00003985649015",
         "9.149527696095037"
        ]
       ],
       "shape": {
        "columns": 2,
        "rows": 376
       }
      },
      "text/html": [
       "<div>\n",
       "<style scoped>\n",
       "    .dataframe tbody tr th:only-of-type {\n",
       "        vertical-align: middle;\n",
       "    }\n",
       "\n",
       "    .dataframe tbody tr th {\n",
       "        vertical-align: top;\n",
       "    }\n",
       "\n",
       "    .dataframe thead th {\n",
       "        text-align: right;\n",
       "    }\n",
       "</style>\n",
       "<table border=\"1\" class=\"dataframe\">\n",
       "  <thead>\n",
       "    <tr style=\"text-align: right;\">\n",
       "      <th></th>\n",
       "      <th>SPX_call_4500.0_2024-04-19</th>\n",
       "      <th>SPX_call_4400.0_2024-04-19</th>\n",
       "    </tr>\n",
       "  </thead>\n",
       "  <tbody>\n",
       "    <tr>\n",
       "      <th>2024-04-19 09:31:00-04:00</th>\n",
       "      <td>100.000146</td>\n",
       "      <td>9.757252</td>\n",
       "    </tr>\n",
       "    <tr>\n",
       "      <th>2024-04-19 09:32:00-04:00</th>\n",
       "      <td>100.000143</td>\n",
       "      <td>9.745228</td>\n",
       "    </tr>\n",
       "    <tr>\n",
       "      <th>2024-04-19 09:33:00-04:00</th>\n",
       "      <td>100.000139</td>\n",
       "      <td>9.733190</td>\n",
       "    </tr>\n",
       "    <tr>\n",
       "      <th>2024-04-19 09:34:00-04:00</th>\n",
       "      <td>100.000136</td>\n",
       "      <td>9.721136</td>\n",
       "    </tr>\n",
       "    <tr>\n",
       "      <th>2024-04-19 09:35:00-04:00</th>\n",
       "      <td>100.000133</td>\n",
       "      <td>9.709068</td>\n",
       "    </tr>\n",
       "    <tr>\n",
       "      <th>...</th>\n",
       "      <td>...</td>\n",
       "      <td>...</td>\n",
       "    </tr>\n",
       "    <tr>\n",
       "      <th>2024-04-19 15:42:00-04:00</th>\n",
       "      <td>100.000000</td>\n",
       "      <td>2.864831</td>\n",
       "    </tr>\n",
       "    <tr>\n",
       "      <th>2024-04-19 15:43:00-04:00</th>\n",
       "      <td>100.000000</td>\n",
       "      <td>2.823608</td>\n",
       "    </tr>\n",
       "    <tr>\n",
       "      <th>2024-04-19 15:44:00-04:00</th>\n",
       "      <td>100.000000</td>\n",
       "      <td>2.781775</td>\n",
       "    </tr>\n",
       "    <tr>\n",
       "      <th>2024-04-19 15:45:00-04:00</th>\n",
       "      <td>100.000000</td>\n",
       "      <td>2.739303</td>\n",
       "    </tr>\n",
       "    <tr>\n",
       "      <th>2024-04-19 15:46:00-04:00</th>\n",
       "      <td>100.000000</td>\n",
       "      <td>2.696161</td>\n",
       "    </tr>\n",
       "  </tbody>\n",
       "</table>\n",
       "<p>376 rows × 2 columns</p>\n",
       "</div>"
      ],
      "text/plain": [
       "                           SPX_call_4500.0_2024-04-19  \\\n",
       "2024-04-19 09:31:00-04:00                  100.000146   \n",
       "2024-04-19 09:32:00-04:00                  100.000143   \n",
       "2024-04-19 09:33:00-04:00                  100.000139   \n",
       "2024-04-19 09:34:00-04:00                  100.000136   \n",
       "2024-04-19 09:35:00-04:00                  100.000133   \n",
       "...                                               ...   \n",
       "2024-04-19 15:42:00-04:00                  100.000000   \n",
       "2024-04-19 15:43:00-04:00                  100.000000   \n",
       "2024-04-19 15:44:00-04:00                  100.000000   \n",
       "2024-04-19 15:45:00-04:00                  100.000000   \n",
       "2024-04-19 15:46:00-04:00                  100.000000   \n",
       "\n",
       "                           SPX_call_4400.0_2024-04-19  \n",
       "2024-04-19 09:31:00-04:00                    9.757252  \n",
       "2024-04-19 09:32:00-04:00                    9.745228  \n",
       "2024-04-19 09:33:00-04:00                    9.733190  \n",
       "2024-04-19 09:34:00-04:00                    9.721136  \n",
       "2024-04-19 09:35:00-04:00                    9.709068  \n",
       "...                                               ...  \n",
       "2024-04-19 15:42:00-04:00                    2.864831  \n",
       "2024-04-19 15:43:00-04:00                    2.823608  \n",
       "2024-04-19 15:44:00-04:00                    2.781775  \n",
       "2024-04-19 15:45:00-04:00                    2.739303  \n",
       "2024-04-19 15:46:00-04:00                    2.696161  \n",
       "\n",
       "[376 rows x 2 columns]"
      ]
     },
     "execution_count": 9,
     "metadata": {},
     "output_type": "execute_result"
    }
   ],
   "source": [
    "price_df"
   ]
  },
  {
   "cell_type": "code",
   "execution_count": 3,
   "metadata": {},
   "outputs": [
    {
     "name": "stdout",
     "output_type": "stream",
     "text": [
      "data validated\n"
     ]
    },
    {
     "name": "stderr",
     "output_type": "stream",
     "text": [
      "/Users/stirlitz/ncGitHub/daily_options/daily_options1/signals.py:208: FutureWarning: In a future version of pandas, parsing datetimes with mixed time zones will raise an error unless `utc=True`. Please specify `utc=True` to opt in to the new behaviour and silence this warning. To create a `Series` with mixed offsets and `object` dtype, please use `apply` and `datetime.datetime.strptime`\n",
      "  df['minute'] = pd.to_datetime(df['minute'],errors=\"coerce\")\n"
     ]
    },
    {
     "name": "stdout",
     "output_type": "stream",
     "text": [
      "0         2024-01-02\n",
      "1         2024-01-02\n",
      "2         2024-01-02\n",
      "3         2024-01-02\n",
      "4         2024-01-02\n",
      "             ...    \n",
      "112994    2025-03-03\n",
      "112995    2025-03-03\n",
      "112996    2025-03-03\n",
      "112997    2025-03-03\n",
      "112998    2025-03-03\n",
      "Name: date, Length: 112999, dtype: object\n",
      "main loaded data\n",
      "{'start_date': Timestamp('2024-01-02 09:31:00-0500', tz='UTC-05:00'), 'end_date': Timestamp('2025-03-03 16:01:00-0500', tz='UTC-05:00'), 'num_records': 112999}\n"
     ]
    }
   ],
   "source": [
    "from signals import ZeroDTESurfaceLoader, MarketData\n",
    "import datetime\n",
    "from zoneinfo import ZoneInfo\n",
    "#import pytz\n",
    "loader = ZeroDTESurfaceLoader(\"./algo_data/vol_surfaces2.csv\",\"./algo_data/spy_daily_prices.csv\")\n",
    "data, underlying_data = loader.load_data()\n",
    "\n",
    "print(f'main loaded data')\n",
    "#print(data.head())\n",
    "metadata = loader.get_metadata(data)\n",
    "print(metadata)\n",
    "market_data = MarketData(data, underlying_data)\n",
    "#print(market_data.get_current_state(\"2023-09-20 10:00:00-04:00\"))\n",
    "#create a date time minute NY time zone\n",
    "#minute = datetime.datetime(2024, 9, 20, 10,0 , 0, tzinfo=pytz.timezone('US/Eastern'))\n",
    "#minute=pytz.timezone('US/Eastern').localize(datetime.datetime(2024, 9, 20, 10, 0, 0))\n",
    "minute=datetime.datetime(2024, 9, 20, 10, 0, 0, tzinfo=ZoneInfo(\"US/Eastern\"))\n",
    "#print(f\"current minute: {minute}\")\n",
    "#print(market_data.get_current_row(minute))\n",
    "market_data.set_current_minute(minute)\n",
    "#market_data.set_current_minute(minute)\n",
    "\n",
    "row=market_data.get_current_row()"
   ]
  },
  {
   "cell_type": "code",
   "execution_count": null,
   "metadata": {},
   "outputs": [
    {
     "name": "stdout",
     "output_type": "stream",
     "text": [
      "{'current_spot': np.float64(1.0059405374603136), 'yest_close': np.float64(540.36), 'under_open': np.float64(1.00793915167666), 'atm_vol': np.float64(0.2720352082341978), 'scaled_slope': np.float64(-0.0127924730223647), 'scaled_quadratic': np.float64(0.0754816963857478)}\n",
      "[ 1.00594054e+00  5.40360000e+02  1.00793915e+00  2.72035208e-01\n",
      " -1.27924730e-02  7.54816964e-02]\n"
     ]
    }
   ],
   "source": [
    "\n",
    "def _get_state(env, row):\n",
    "    yest_close=row[\"under_close_shifted\"]\n",
    "    current_spot=row[\"implied_spot\"]\n",
    "    under_open=row[\"under_open\"]\n",
    "    atm_vol=row[\"atm_vol\"]\n",
    "    scaled_slope=row[\"scaled_slope\"]\n",
    "    scaled_quadratic=row[\"scaled_quadratic\"]\n",
    "\n",
    "\n",
    "\n",
    "\n",
    "    \"\"\"\n",
    "    state = {\n",
    "        'time_remaining': env._get_state()[0],\n",
    "        'current_price': row['SPY'],\n",
    "        'current_vol': row['ATM Vol'],\n",
    "        'current_dte': row['DTE'],\n",
    "        'current_spot': row['SPY'],\n",
    "        'current_strike': row['Strike'],\n",
    "        'current_option_type': row['Option Type']\n",
    "    }\n",
    "    \n",
    "    \"\"\"\n",
    "    state={\n",
    "        \"current_spot\": current_spot,\n",
    "        \"yest_close\": yest_close,\n",
    "        \"under_open\": under_open,\n",
    "        \"atm_vol\": atm_vol,\n",
    "        \"scaled_slope\": scaled_slope,\n",
    "        \"scaled_quadratic\": scaled_quadratic\n",
    "    }\n",
    "\n",
    "    array_fields=[\"current_spot\",\"yest_close\",\"under_open\",\"atm_vol\",\"scaled_slope\",\"scaled_quadratic\"]\n",
    "    spot_scale_fields=[\"current_spot\",\"under_open\"]\n",
    "    for field in spot_scale_fields:\n",
    "        state_array=np.array([state[field] for field in array_fields])\n",
    "        state[field]=state[field]/yest_close\n",
    "    state_array=np.array([state[field] for field in array_fields])\n",
    "    return state,state_array,array_fields\n",
    "\n",
    "\n",
    "env.reset()\n",
    "row=env.market_data.get_current_row()\n",
    "a,a_arr,arr_fields=_get_state(env, row)\n",
    "print(a)\n",
    "print(a_arr)\n",
    "\n"
   ]
  },
  {
   "cell_type": "code",
   "execution_count": 25,
   "metadata": {},
   "outputs": [
    {
     "data": {
      "text/plain": [
       "Index(['minute', 'implied_spot', 'atm_vol', 'slope', 'quadratic_term',\n",
       "       'scaled_slope', 'scaled_quadratic', 'open_price', 'high_price',\n",
       "       'low_price', 'close_price', 'volume', 'vwap', 'timestamp',\n",
       "       'transactions', 'otc', 'timestamp_utc', 'timestamp_est', 'date',\n",
       "       'years_to_maturity', 'straddle_price', 'pct_straddle_price',\n",
       "       'start_of_day', 'return', 'hvol_60', 'min_price_60', 'max_price_60',\n",
       "       'min_atm_vol_60', 'max_atm_vol_60', 'mean_atm_vol_60', 'mean_price_60',\n",
       "       'mean_price_10', 'under_close_shifted', 'under_open', 'under_hvol_20',\n",
       "       'under_min_price_20', 'under_max_price_20', 'under_mean_price_20'],\n",
       "      dtype='object')"
      ]
     },
     "execution_count": 25,
     "metadata": {},
     "output_type": "execute_result"
    }
   ],
   "source": [
    "row.keys()"
   ]
  },
  {
   "cell_type": "code",
   "execution_count": 43,
   "metadata": {},
   "outputs": [
    {
     "data": {
      "text/plain": [
       "np.float64(604.19)"
      ]
     },
     "execution_count": 43,
     "metadata": {},
     "output_type": "execute_result"
    }
   ],
   "source": [
    "row[\"open_price\"]\n",
    "row[\"under_open\"]"
   ]
  },
  {
   "cell_type": "code",
   "execution_count": 13,
   "metadata": {},
   "outputs": [
    {
     "data": {
      "text/plain": [
       "{}"
      ]
     },
     "execution_count": 13,
     "metadata": {},
     "output_type": "execute_result"
    }
   ],
   "source": [
    "market_data.get_current_row()\n",
    "market_data.increment_minute(2)\n",
    "market_data.get_current_row()\n",
    "market_data.missing_minutes"
   ]
  },
  {
   "cell_type": "code",
   "execution_count": 56,
   "metadata": {},
   "outputs": [],
   "source": [
    "\n",
    "import gymnasium as gym  # ✅ Use gymnasium instead of gym\n",
    "import numpy as np\n",
    "import pandas as pd\n",
    "from gymnasium import spaces\n",
    "from copy import deepcopy\n",
    "from datetime import datetime, timedelta\n",
    "import random\n",
    "#import pytz\n",
    "\n",
    "import matplotlib.pyplot as plt\n",
    "import matplotlib.animation as animation\n",
    "\n",
    "\n",
    "\n",
    "\n",
    "\n",
    "class StraddleEnvironment(gym.Env):\n",
    "    def __init__(self):\n",
    "        super(StraddleEnvironment, self).__init__()\n",
    "        self.action_space = spaces.Discrete(3)\n",
    "        self.observation_space = spaces.Box(low=0, high=1, shape=(1, 1), dtype=np.float32)\n",
    "        self.episode_duration = timedelta(minutes=180)\n",
    "        #self.current_time = self.pick_initial_datetime()\n",
    "        #initial_state = self.data.loc[self.current_time]\n",
    "        loader = ZeroDTESurfaceLoader(\"./algo_data/vol_surfaces2.csv\",\"./algo_data/spy_daily_prices.csv\")\n",
    "        data, underlying_data = loader.load_data()\n",
    "        market_data= MarketData(data, underlying_data)\n",
    "        self.market_data=market_data\n",
    "        self.metadata = loader.get_metadata(data)\n",
    "        self.start_date = self.metadata[\"start_date\"]\n",
    "        self.end_date = self.metadata[\"end_date\"]\n",
    "\n",
    "        #state variables\n",
    "        self.position_opened = False\n",
    "        self.current_episode_start_time = None\n",
    "        self.end_time = None\n",
    "        self.current_time = None\n",
    "\n",
    "        self.trade_ledger = None\n",
    "        self.portfolio = None\n",
    "\n",
    "        #future state variables\n",
    "        self.all_prices = None\n",
    "        self.all_texp = None\n",
    "        self.all_pnl = None\n",
    "\n",
    "\n",
    "        #define the initial state\n",
    "\n",
    "\n",
    "\n",
    "    def reset(self):\n",
    "        self.current_time = pick_random_datetime(self.start_date,self.end_date, timedelta(hours=9,minutes=31), timedelta(hours=16,minutes=1)-self.episode_duration,self.market_data)\n",
    "        #print(f\"current time: {self.current_time}\")\n",
    "        self.end_time = self.current_time + self.episode_duration\n",
    "        #state = self._get_state()\n",
    "        info = self._get_info()\n",
    "        self.market_data.set_current_minute(self.current_time)\n",
    "        #print(f\"current time: {self.current_time}\")\n",
    "        #print(f\"market_data.current_row: {self.market_data.get_current_row()}\")\n",
    "        self.episode_start_time = self.current_time\n",
    "        self.position_opened = False\n",
    "        self.trade_ledger = TradeLedger()\n",
    "        self.portfolio = Portfolio(ledger=self.trade_ledger)\n",
    "        self.option_expiry=self.market_data.get_current_row()[\"minute\"].replace(hour=16, minute=17)\n",
    "        #self.option_expiry = pd.Timestamp(\"2024-04-19 16:17\", tz=\"US/Eastern\")\n",
    "        self.last_pnl=0\n",
    "\n",
    "\n",
    "        #print(f\"current time: {self.current_time}\")\n",
    "        #state= self.market_data.get_current_row()\n",
    "        #print(\"reset about to get state\")\n",
    "        (state_dict,state,state_fields)= self._get_state()\n",
    "        return state, info\n",
    "\n",
    "    def add_straddle(portfolio, timestamp, underlying, quantity, strike, expiry, price):\n",
    "        portfolio.add_option(timestamp, underlying, quantity, 'call', strike, expiry, price/2)\n",
    "        portfolio.add_option(timestamp, underlying, quantity, 'put', strike, expiry, price/2)\n",
    "\n",
    "    def step(self, action):\n",
    "        done = False\n",
    "        market_row = self.market_data.get_current_row()\n",
    "        if action == 0:\n",
    "            if not self.position_opened:\n",
    "                # Open a position\n",
    "                self.position_opened = True\n",
    "                spot_price = market_row[\"implied_spot\"]\n",
    "                straddle_price = market_row[\"straddle_price\"]\n",
    "                #print(f\"straddle price: {straddle_price}\")\n",
    "                #print(f\"current row: {market_row}\")\n",
    "                #print(f\"spot price: {spot_price}\")\n",
    "                self.portfolio.add_option(self.current_time, 'SPY', 1, 'call', spot_price, self.option_expiry, straddle_price/2)\n",
    "                self.portfolio.add_option(self.current_time, 'SPY', 1, 'put', spot_price, self.option_expiry, straddle_price/2)\n",
    "                day_atm_vols = self.market_data.df_today[\"atm_vol\"].to_numpy()\n",
    "                day_slopes = self.market_data.df_today[\"slope\"].to_numpy()\n",
    "                day_quadratic_terms = self.market_data.df_today[\"quadratic_term\"].to_numpy()\n",
    "                all_times = self.market_data.df_today[\"minute\"].to_numpy()\n",
    "                all_times=pd.to_datetime(all_times)\n",
    "                all_spots = self.market_data.df_today[\"implied_spot\"].to_numpy()\n",
    "                self.portfolio_prices, self.portfolio_price_arr= price_portfolio(self.portfolio, all_times, all_spots, day_atm_vols, day_slopes, day_quadratic_terms)\n",
    "                self.buy_time= self.current_time\n",
    "                #print(f\"portfolio prices: {self.portfolio_prices.where(self.portfolio_prices.index == self.current_time)}\")\n",
    "                #self.market_data.open_position(self.current_time)\n",
    "        elif action == 1:\n",
    "            if self.position_opened:\n",
    "                # Close the position\n",
    "                self.position_opened = True\n",
    "                #self.market_data.close_position(self.current_time)\n",
    "                done = True\n",
    "        elif action == 2:\n",
    "            # Do nothing\n",
    "            pass\n",
    "        pnl=0\n",
    "        if self.position_opened:\n",
    "            #print(\"bla bla bla\")\n",
    "            pnl= compute_pnl_from_precomputed(self.portfolio, self.portfolio_prices, self.current_time) - self.portfolio.get_ledger().total_cost.sum()\n",
    "        reward = pnl - self.last_pnl\n",
    "        self.last_pnl = pnl\n",
    "        self.current_time += timedelta(minutes=30)\n",
    "        self.market_data.increment_minute(30)\n",
    "        if self.current_time >= self.end_time:\n",
    "            self.current_time = self.end_time\n",
    "            #self.market_data.increment_minute(30)\n",
    "            done = True\n",
    "            truncated = True\n",
    "        (state_dict,state,state_fields) = self._get_state()\n",
    "        info = self._get_info()\n",
    "        truncated = False\n",
    "        return state, reward, done, truncated, info\n",
    "\n",
    "    \"\"\"\n",
    "    def _get_state(self):\n",
    "        time_remaining= (self.end_time - self.current_time)/self.episode_duration\n",
    "        return np.array([time_remaining])\n",
    "    \"\"\"\n",
    "\n",
    "    def _get_state(self):\n",
    "        row=self.market_data.get_current_row()\n",
    "        yest_close = row[\"under_close_shifted\"]\n",
    "        time_remaining= (self.end_time - self.current_time)/self.episode_duration\n",
    "        state = {\n",
    "            \"current_spot\": row[\"implied_spot\"] / yest_close,\n",
    "            \"under_open\": row[\"under_open\"] / yest_close,\n",
    "            \"atm_vol\": row[\"atm_vol\"],\n",
    "            \"scaled_slope\": row[\"scaled_slope\"],\n",
    "            \"scaled_quadratic\": row[\"scaled_quadratic\"],\n",
    "            \"pct_straddle_price\": row[\"pct_straddle_price\"] / yest_close,\n",
    "            \"texp\": row[\"years_to_maturity\"],\n",
    "            \"yest_close\": 1.0,  # normalized reference\n",
    "            \"time_remaining\": time_remaining,\n",
    "            \"has_position\": 1.0 if self.position_opened else 0.0,\n",
    "        }\n",
    "\n",
    "        array_fields = [\"current_spot\", \"under_open\", \"atm_vol\", \"scaled_slope\", \"scaled_quadratic\", \"pct_straddle_price\",\"texp\",\"yest_close\", \"time_remaining\", \"has_position\"]\n",
    "        state_array = np.array([state[field] for field in array_fields])\n",
    "\n",
    "        return state, state_array, array_fields\n",
    "\n",
    "    def _state_to_dict(self, state):\n",
    "        return {\"time_remaining\": state[0]}\n",
    "\n",
    "    def _get_info(self):\n",
    "        return {}\n",
    "\n",
    "\n",
    "    \"\"\"\n",
    "\n",
    "    def render(self, mode='human'):\n",
    "        state_info = {\n",
    "            \"current_time\": self.current_time.isoformat(),\n",
    "            \"end_time\": self.end_time.isoformat()\n",
    "        }\n",
    "        print(state_info)\n",
    "\n",
    "    \"\"\"\n",
    "\n",
    "    def render(self, mode='human'):\n",
    "        fig, ax = plt.subplots(figsize=(5, 3))\n",
    "        ax.barh(['Time Remaining'], [self._get_state()[0]], color='blue')\n",
    "        ax.set_xlim(0, 1)\n",
    "        ax.set_xlabel('Normalized Time Remaining')\n",
    "        ax.set_title(f'Time: {self.current_time.strftime(\"%H:%M\")}')\n",
    "        plt.tight_layout()\n",
    "\n",
    "        if mode == 'human':\n",
    "            plt.show()\n",
    "            plt.close(fig)\n",
    "        elif mode == 'rgb_array':\n",
    "            fig.canvas.draw()\n",
    "            width, height = fig.canvas.get_width_height()\n",
    "            image = np.asarray(fig.canvas.renderer.buffer_rgba())\n",
    "            plt.close(fig)\n",
    "            return image[:, :, :3]\n",
    "        plt.close(fig)\n",
    "\n",
    "    def close(self):\n",
    "        pass\n",
    "\n",
    "\n",
    "    def rollout(self):\n",
    "        state, _ = self.reset()\n",
    "        done = False\n",
    "        states, rewards, actions, infos = [], [], [], []\n",
    "        while not done:\n",
    "            action = self.action_space.sample()\n",
    "            state1, reward, done, truncated, info = self.step(action)\n",
    "            #print(f\"State: {state}, Reward: {reward}, Done: {done}, Info: {info}\")\n",
    "            states.append(state)\n",
    "            rewards.append(reward)\n",
    "            actions.append(action)\n",
    "            infos.append(info)\n",
    "            state=state1\n",
    "\n",
    "        states.append(state)\n",
    "        return states, rewards, actions, infos, done, truncated\n",
    "\n",
    "    def pick_initial_datetime(self):\n",
    "        valid_start_times = self.data.index[self.data.index <= self.data.index.max() - self.episode_duration]\n",
    "        initial_datetime = np.random.choice(valid_start_times)\n",
    "        return initial_datetime\n",
    "\n",
    "def pick_random_datetime(start_date: datetime, end_date: datetime, start_time: timedelta, end_time: timedelta,market_data,tz_str='America/New_York'):\n",
    "    random_date = start_date + timedelta(days=random.randint(0, (end_date - start_date).days))\n",
    "    while (not is_valid_date(random_date) or (pd.Timestamp(random_date.date()).tz_localize(ZoneInfo(\"US/Eastern\"))in market_data.missing_dates)):\n",
    "        random_date = start_date + timedelta(days=random.randint(0, (end_date - start_date).days))\n",
    "        #print(f\"random date: {random_date}\")\n",
    "        #print(f\"missing dates: {market_data.missing_dates}\")\n",
    "    \n",
    "\n",
    "    random_seconds = random.randint(int(start_time.total_seconds()), int(end_time.total_seconds()))//60*60\n",
    "    random_datetime = datetime.combine(random_date, datetime.min.time()) + timedelta(seconds=random_seconds)\n",
    "    random_datetime = random_datetime.replace(tzinfo=ZoneInfo(\"US/Eastern\"))\n",
    "    #random_datetime = pytz.timezone(tz_str).localize(random_datetime)\n",
    "    return random_datetime\n",
    "\n",
    "\"\"\"\n",
    "def pick_random_datetime(start_date: datetime, end_date: datetime, start_time: timedelta, end_time: timedelta,tz_str='America/New_York'):\n",
    "    random_date = start_date + timedelta(days=random.randint(0, (end_date - start_date).days))\n",
    "    while (not is_valid_date(random_date)):\n",
    "        random_date = start_date + timedelta(days=random.randint(0, (end_date - start_date).days))\n",
    "\n",
    "    random_seconds = random.randint(int(start_time.total_seconds()), int(end_time.total_seconds()))//60*60\n",
    "    random_datetime = datetime.combine(random_date, datetime.min.time()) + timedelta(seconds=random_seconds)\n",
    "    random_datetime = random_datetime.replace(tzinfo=ZoneInfo(\"US/Eastern\"))\n",
    "    #random_datetime = pytz.timezone(tz_str).localize(random_datetime)\n",
    "    return random_datetime\n",
    "\"\"\"\n",
    "\n",
    "\n",
    "def is_valid_date(dt_datetime: datetime) -> bool:\n",
    "    if dt_datetime.weekday()>4:\n",
    "        return False\n",
    "    return True\n",
    "\n",
    "def run_episode(env):\n",
    "    env.reset()\n",
    "    done = False\n",
    "    states=[]\n",
    "    rewards=[]\n",
    "    actions=[]\n",
    "    truncates=[]\n",
    "    infos=[]\n",
    "\n",
    "    \n",
    "    while not done:\n",
    "        action = env.action_space.sample()\n",
    "        state, reward, done, truncated, info = env.step(action)\n",
    "        print(f\"State: {state}, Reward: {reward}, Done: {done}, Info: {info}\")\n",
    "        states.append(state)\n",
    "        rewards.append(reward)\n",
    "        actions.append(action)\n",
    "        infos.append(info)\n",
    "        if done:\n",
    "            break\n",
    "    return states, rewards, actions, infos\n"
   ]
  },
  {
   "cell_type": "code",
   "execution_count": 57,
   "metadata": {},
   "outputs": [
    {
     "name": "stdout",
     "output_type": "stream",
     "text": [
      "data validated\n"
     ]
    },
    {
     "name": "stderr",
     "output_type": "stream",
     "text": [
      "/Users/stirlitz/ncGitHub/daily_options/daily_options1/signals.py:208: FutureWarning: In a future version of pandas, parsing datetimes with mixed time zones will raise an error unless `utc=True`. Please specify `utc=True` to opt in to the new behaviour and silence this warning. To create a `Series` with mixed offsets and `object` dtype, please use `apply` and `datetime.datetime.strptime`\n",
      "  df['minute'] = pd.to_datetime(df['minute'],errors=\"coerce\")\n"
     ]
    },
    {
     "name": "stdout",
     "output_type": "stream",
     "text": [
      "0         2024-01-02\n",
      "1         2024-01-02\n",
      "2         2024-01-02\n",
      "3         2024-01-02\n",
      "4         2024-01-02\n",
      "             ...    \n",
      "112994    2025-03-03\n",
      "112995    2025-03-03\n",
      "112996    2025-03-03\n",
      "112997    2025-03-03\n",
      "112998    2025-03-03\n",
      "Name: date, Length: 112999, dtype: object\n"
     ]
    }
   ],
   "source": [
    "env=StraddleEnvironment()"
   ]
  },
  {
   "cell_type": "code",
   "execution_count": 8,
   "metadata": {},
   "outputs": [],
   "source": [
    "env.market_data.df_today"
   ]
  },
  {
   "cell_type": "code",
   "execution_count": 52,
   "metadata": {},
   "outputs": [
    {
     "data": {
      "text/plain": [
       "(array([ 9.99618991e-01,  1.00303431e+00,  2.52549812e-01, -6.10577406e-03,\n",
       "         1.28868427e-01,  1.09066999e-05,  7.74360670e-04,  1.00000000e+00,\n",
       "         1.00000000e+00]),\n",
       " {})"
      ]
     },
     "execution_count": 52,
     "metadata": {},
     "output_type": "execute_result"
    }
   ],
   "source": [
    "env.reset()"
   ]
  },
  {
   "cell_type": "code",
   "execution_count": 58,
   "metadata": {},
   "outputs": [
    {
     "name": "stdout",
     "output_type": "stream",
     "text": [
      "State: [ 9.99072820e-01  9.97021062e-01  1.79200838e-01 -6.78556136e-03\n",
      "  2.01423008e-01  8.46486641e-06  7.96406526e-04  1.00000000e+00\n",
      "  8.33333333e-01  0.00000000e+00], Reward: 0, Done: False, truncated: False Info: {}\n",
      "State: [ 9.96671108e-01  9.97021062e-01  1.83504849e-01 -5.18782840e-03\n",
      "  2.41530890e-01  8.20594509e-06  7.13734568e-04  1.00000000e+00\n",
      "  6.66666667e-01  0.00000000e+00], Reward: 0, Done: False, truncated: False, Info: {}\n",
      "State: [ 9.95944099e-01  9.97021062e-01  1.78155610e-01 -4.43416075e-03\n",
      "  2.35651550e-01  7.49115003e-06  6.31062610e-04  1.00000000e+00\n",
      "  5.00000000e-01  0.00000000e+00], Reward: 0, Done: False, truncated: False, Info: {}\n",
      "State: [ 9.94511431e-01  9.97021062e-01  1.84582802e-01 -2.94768519e-03\n",
      "  2.15394984e-01  7.23517514e-06  5.48390653e-04  1.00000000e+00\n",
      "  3.33333333e-01  1.00000000e+00], Reward: 0.0, Done: False, truncated: False, Info: {}\n",
      "State: [ 9.95695289e-01  9.97021062e-01  1.76569615e-01 -1.83867296e-03\n",
      "  2.64122428e-01  6.37809046e-06  4.65718695e-04  1.00000000e+00\n",
      "  1.66666667e-01  1.00000000e+00], Reward: 0.022400820753138984, Done: False, truncated: False, Info: {}\n",
      "State: [ 9.94273650e-01  9.97021062e-01  1.80927966e-01 -3.34439275e-03\n",
      "  2.30828953e-01  5.92713048e-06  3.83046737e-04  1.00000000e+00\n",
      "  0.00000000e+00  1.00000000e+00], Reward: -0.27303929899304036, Done: True, truncated: False, Info: {}\n"
     ]
    }
   ],
   "source": [
    "env.reset()\n",
    "state, reward, done, truncated, info = env.step(1)\n",
    "print(f\"State: {state}, Reward: {reward}, Done: {done}, truncated: {truncated} Info: {info}\")\n",
    "state,reward, done, truncated,info= env.step(1)\n",
    "print(f\"State: {state}, Reward: {reward}, Done: {done}, truncated: {truncated}, Info: {info}\")\n",
    "state,reward, done, truncated,info= env.step(2)\n",
    "print(f\"State: {state}, Reward: {reward}, Done: {done}, truncated: {truncated}, Info: {info}\")\n",
    "\n",
    "\n",
    "\n",
    "state,reward, done, truncated,info= env.step(0)\n",
    "\n",
    "print(f\"State: {state}, Reward: {reward}, Done: {done}, truncated: {truncated}, Info: {info}\")\n",
    "\n",
    "state,reward, done, truncated,info= env.step(2)\n",
    "print(f\"State: {state}, Reward: {reward}, Done: {done}, truncated: {truncated}, Info: {info}\")\n",
    "state,reward, done, truncated,info= env.step(1)\n",
    "print(f\"State: {state}, Reward: {reward}, Done: {done}, truncated: {truncated}, Info: {info}\")\n",
    "\n"
   ]
  },
  {
   "cell_type": "code",
   "execution_count": null,
   "metadata": {},
   "outputs": [
    {
     "data": {
      "text/plain": [
       "11168    1.138257\n",
       "Name: straddle_price, dtype: float64"
      ]
     },
     "execution_count": 231,
     "metadata": {},
     "output_type": "execute_result"
    }
   ],
   "source": [
    "env.current_time\n",
    "env.current_time= (env.current_time - timedelta(minutes=30))\n",
    "env.market_data.set_current_minute(env.current_time)\n",
    "#env.market_data.get_current_row()\n",
    "#env.portfolio_prices.loc[env.current_time].sum()\n",
    "env.market_data.df_today[env.market_data.df_today[\"minute\"] == env.current_time][\"straddle_price\"]\n",
    "env."
   ]
  },
  {
   "cell_type": "code",
   "execution_count": 44,
   "metadata": {},
   "outputs": [],
   "source": [
    "#for i in range(0, 1000):\n",
    "# Reset the environment\n",
    "#state, info = env.reset()\n",
    "for i in range(0, 10000):\n",
    "    env.rollout()\n",
    "# Perform a rollout\n",
    "\n"
   ]
  },
  {
   "cell_type": "code",
   "execution_count": null,
   "metadata": {},
   "outputs": [],
   "source": []
  },
  {
   "cell_type": "code",
   "execution_count": null,
   "metadata": {},
   "outputs": [
    {
     "data": {
      "text/plain": [
       "np.float64(1.273206998291203)"
      ]
     },
     "execution_count": 172,
     "metadata": {},
     "output_type": "execute_result"
    }
   ],
   "source": [
    "env.portfolio.ledger.trades.total_cost.sum()\n",
    "env.portfolio.get_positions()\n",
    "\n",
    "compute_pnl_from_precomputed(env.portfolio, env.portfolio_prices, env.current_time)\n",
    "env.portfolio.get_ledger().total_cost.sum()"
   ]
  },
  {
   "cell_type": "code",
   "execution_count": null,
   "metadata": {},
   "outputs": [
    {
     "data": {
      "text/plain": [
       "array([1.])"
      ]
     },
     "execution_count": 56,
     "metadata": {},
     "output_type": "execute_result"
    }
   ],
   "source": [
    "bla=env.rollout()\n",
    "bla[0][0]"
   ]
  },
  {
   "cell_type": "code",
   "execution_count": null,
   "metadata": {},
   "outputs": [
    {
     "data": {
      "text/plain": [
       "0"
      ]
     },
     "execution_count": 7,
     "metadata": {},
     "output_type": "execute_result"
    }
   ],
   "source": [
    "action= random.sample(range(0,3), 1)[0]\n",
    "action"
   ]
  },
  {
   "cell_type": "code",
   "execution_count": null,
   "metadata": {},
   "outputs": [
    {
     "data": {
      "text/plain": [
       "(minute                 2025-01-30 10:45:00-05:00\n",
       " implied_spot                          603.241624\n",
       " atm_vol                                 0.227287\n",
       " slope                                   -1.85415\n",
       " quadratic_term                        189.117114\n",
       " scaled_slope                           -0.004658\n",
       " scaled_quadratic                        0.119376\n",
       " open_price                                603.46\n",
       " high_price                                603.47\n",
       " low_price                                  603.2\n",
       " close_price                               603.25\n",
       " volume                                   33733.0\n",
       " vwap                                    603.3708\n",
       " timestamp                          1738251840000\n",
       " transactions                                 675\n",
       " otc                                          NaN\n",
       " timestamp_utc          2025-01-30 15:44:00+00:00\n",
       " timestamp_est          2025-01-30 10:44:00-05:00\n",
       " date                   2025-01-30 00:00:00-05:00\n",
       " years_to_maturity                       0.000631\n",
       " straddle_price                           2.74852\n",
       " pct_straddle_price                      0.004556\n",
       " start_of_day                               False\n",
       " return                                 -0.000327\n",
       " hvol_60                                 0.275171\n",
       " min_price_60                          602.335176\n",
       " max_price_60                          605.847646\n",
       " min_atm_vol_60                          0.222532\n",
       " max_atm_vol_60                          0.243318\n",
       " mean_atm_vol_60                         0.233609\n",
       " mean_price_60                         603.930601\n",
       " mean_price_10                         603.460428\n",
       " under_close_shifted                       601.81\n",
       " under_open                                603.96\n",
       " under_hvol_20                           0.138493\n",
       " under_min_price_20                        580.49\n",
       " under_max_price_20                        609.75\n",
       " under_mean_price_20                     595.0085\n",
       " Name: 104471, dtype: object,\n",
       " {})"
      ]
     },
     "execution_count": 8,
     "metadata": {},
     "output_type": "execute_result"
    }
   ],
   "source": [
    "env.reset()"
   ]
  },
  {
   "cell_type": "code",
   "execution_count": null,
   "metadata": {},
   "outputs": [
    {
     "name": "stdout",
     "output_type": "stream",
     "text": [
      "minute                 2024-02-23 12:31:00-05:00\n",
      "implied_spot                           507.83335\n",
      "atm_vol                                 0.193386\n",
      "slope                                  -1.858734\n",
      "quadratic_term                         479.10558\n",
      "scaled_slope                           -0.003853\n",
      "scaled_quadratic                        0.205867\n",
      "open_price                                508.26\n",
      "high_price                                508.26\n",
      "low_price                                 507.81\n",
      "close_price                               507.85\n",
      "volume                                   98517.0\n",
      "vwap                                    508.0034\n",
      "timestamp                          1708709400000\n",
      "transactions                                1110\n",
      "otc                                          NaN\n",
      "timestamp_utc          2024-02-23 17:30:00+00:00\n",
      "timestamp_est          2024-02-23 12:30:00-05:00\n",
      "date                   2024-02-23 00:00:00-05:00\n",
      "years_to_maturity                        0.00043\n",
      "straddle_price                          1.624293\n",
      "pct_straddle_price                      0.003198\n",
      "start_of_day                               False\n",
      "return                                 -0.000806\n",
      "hvol_60                                 0.141301\n",
      "min_price_60                           507.83335\n",
      "max_price_60                           508.94481\n",
      "min_atm_vol_60                          0.172458\n",
      "max_atm_vol_60                          0.193386\n",
      "mean_atm_vol_60                         0.181733\n",
      "mean_price_60                         508.409097\n",
      "mean_price_10                         508.361625\n",
      "under_close_shifted                        507.5\n",
      "under_open                                509.27\n",
      "under_hvol_20                           0.139185\n",
      "under_min_price_20                        482.88\n",
      "under_max_price_20                        507.85\n",
      "under_mean_price_20                      496.231\n",
      "Name: 14256, dtype: object\n"
     ]
    }
   ],
   "source": [
    "for i in range(10000):\n",
    "    #print(f\"Episode {i+1}\")\n",
    "    obs,_= env.reset()\n",
    "print(obs)\n"
   ]
  },
  {
   "cell_type": "code",
   "execution_count": null,
   "metadata": {},
   "outputs": [
    {
     "data": {
      "text/plain": [
       "datetime.datetime(2024, 3, 29, 12, 36, tzinfo=zoneinfo.ZoneInfo(key='US/Eastern'))"
      ]
     },
     "execution_count": 23,
     "metadata": {},
     "output_type": "execute_result"
    }
   ],
   "source": [
    "env.current_time\n",
    "#env.market_data.missing_dates"
   ]
  },
  {
   "cell_type": "code",
   "execution_count": null,
   "metadata": {},
   "outputs": [
    {
     "data": {
      "text/plain": [
       "True"
      ]
     },
     "execution_count": 35,
     "metadata": {},
     "output_type": "execute_result"
    }
   ],
   "source": [
    "env.current_time.date() in env.market_data.missing_dates\n",
    "\n",
    "pd.Timestamp(env.current_time.date()).tz_localize(ZoneInfo(\"US/Eastern\"))in env.market_data.missing_dates"
   ]
  },
  {
   "cell_type": "code",
   "execution_count": null,
   "metadata": {},
   "outputs": [
    {
     "ename": "AttributeError",
     "evalue": "'StraddleEnvironment' object has no attribute 'current_date'",
     "output_type": "error",
     "traceback": [
      "\u001b[0;31m---------------------------------------------------------------------------\u001b[0m",
      "\u001b[0;31mAttributeError\u001b[0m                            Traceback (most recent call last)",
      "Cell \u001b[0;32mIn[81], line 2\u001b[0m\n\u001b[1;32m      1\u001b[0m env\u001b[38;5;241m.\u001b[39mcurrent_time\n\u001b[0;32m----> 2\u001b[0m \u001b[38;5;28many\u001b[39m(env\u001b[38;5;241m.\u001b[39mmarket_data\u001b[38;5;241m.\u001b[39mdf[\u001b[38;5;124m\"\u001b[39m\u001b[38;5;124mdate\u001b[39m\u001b[38;5;124m\"\u001b[39m]\u001b[38;5;241m==\u001b[39m\u001b[43menv\u001b[49m\u001b[38;5;241;43m.\u001b[39;49m\u001b[43mcurrent_date\u001b[49m)\n\u001b[1;32m      3\u001b[0m env\u001b[38;5;241m.\u001b[39mcurrent_time\u001b[38;5;241m.\u001b[39mdate() \u001b[38;5;66;03m#in env.market_data.missing_dates\u001b[39;00m\n",
      "\u001b[0;31mAttributeError\u001b[0m: 'StraddleEnvironment' object has no attribute 'current_date'"
     ]
    }
   ],
   "source": [
    "env.current_time\n",
    "any(env.market_data.df[\"date\"]==env.current_date)\n",
    "env.current_time.date() #in env.market_data.missing_dates"
   ]
  },
  {
   "cell_type": "code",
   "execution_count": null,
   "metadata": {},
   "outputs": [
    {
     "data": {
      "text/plain": [
       "[Timestamp('2024-01-15 00:00:00-0500', tz='US/Eastern'),\n",
       " Timestamp('2024-02-19 00:00:00-0500', tz='US/Eastern'),\n",
       " Timestamp('2024-03-29 00:00:00-0400', tz='US/Eastern'),\n",
       " Timestamp('2024-05-27 00:00:00-0400', tz='US/Eastern'),\n",
       " Timestamp('2024-06-19 00:00:00-0400', tz='US/Eastern'),\n",
       " Timestamp('2024-07-03 00:00:00-0400', tz='US/Eastern'),\n",
       " Timestamp('2024-07-04 00:00:00-0400', tz='US/Eastern'),\n",
       " Timestamp('2024-09-02 00:00:00-0400', tz='US/Eastern'),\n",
       " Timestamp('2024-11-28 00:00:00-0500', tz='US/Eastern'),\n",
       " Timestamp('2024-11-29 00:00:00-0500', tz='US/Eastern'),\n",
       " Timestamp('2024-12-24 00:00:00-0500', tz='US/Eastern'),\n",
       " Timestamp('2024-12-25 00:00:00-0500', tz='US/Eastern'),\n",
       " Timestamp('2025-01-01 00:00:00-0500', tz='US/Eastern'),\n",
       " Timestamp('2025-01-09 00:00:00-0500', tz='US/Eastern'),\n",
       " Timestamp('2025-01-20 00:00:00-0500', tz='US/Eastern'),\n",
       " Timestamp('2025-02-17 00:00:00-0500', tz='US/Eastern')]"
      ]
     },
     "execution_count": 24,
     "metadata": {},
     "output_type": "execute_result"
    }
   ],
   "source": [
    "env.market_data.missing_dates"
   ]
  },
  {
   "cell_type": "code",
   "execution_count": null,
   "metadata": {},
   "outputs": [
    {
     "data": {
      "text/plain": [
       "[Timestamp('2024-01-15 00:00:00'),\n",
       " Timestamp('2024-02-19 00:00:00'),\n",
       " Timestamp('2024-03-29 00:00:00'),\n",
       " Timestamp('2024-05-27 00:00:00'),\n",
       " Timestamp('2024-06-19 00:00:00'),\n",
       " Timestamp('2024-07-03 00:00:00'),\n",
       " Timestamp('2024-07-04 00:00:00'),\n",
       " Timestamp('2024-09-02 00:00:00'),\n",
       " Timestamp('2024-11-28 00:00:00'),\n",
       " Timestamp('2024-11-29 00:00:00'),\n",
       " Timestamp('2024-12-24 00:00:00'),\n",
       " Timestamp('2024-12-25 00:00:00'),\n",
       " Timestamp('2025-01-01 00:00:00'),\n",
       " Timestamp('2025-01-09 00:00:00'),\n",
       " Timestamp('2025-01-20 00:00:00'),\n",
       " Timestamp('2025-02-17 00:00:00')]"
      ]
     },
     "execution_count": 6,
     "metadata": {},
     "output_type": "execute_result"
    }
   ],
   "source": [
    "all_dates=env.market_data.df[\"date\"].unique()\n",
    "all_dates\n",
    "#find missing weekdays\n",
    "all_dates = pd.to_datetime(all_dates)\n",
    "all_dates = sorted(all_dates)\n",
    "date_range= pd.date_range(start=all_dates[0], end=all_dates[-1], freq='B')\n",
    "missing_dates = []\n",
    "for dt in date_range: \n",
    "    if dt not in all_dates:\n",
    "        missing_dates.append(dt)\n",
    "missing_dates"
   ]
  },
  {
   "cell_type": "code",
   "execution_count": null,
   "metadata": {},
   "outputs": [
    {
     "name": "stdout",
     "output_type": "stream",
     "text": [
      "{}\n"
     ]
    }
   ],
   "source": [
    "\n",
    "missing_minutes={}\n",
    "for dt in date_range:\n",
    "    if dt not in missing_dates:\n",
    "        daily_df= env.market_data.df[env.market_data.df[\"date\"]==dt]\n",
    "        full_day_minutes = pd.date_range(\n",
    "            start=dt.replace(hour=9, minute=31, tzinfo=ZoneInfo(\"US/Eastern\")), \n",
    "            end=dt.replace(hour=16, minute=1, tzinfo=ZoneInfo(\"US/Eastern\")),\n",
    "            freq='min'\n",
    "        )\n",
    "        missing = full_day_minutes.difference(daily_df[\"minute\"])\n",
    "        if (len(missing)>0):\n",
    "            missing_minutes[dt] = missing\n",
    "#print(full_day_minutes)\n",
    "print(missing_minutes)"
   ]
  },
  {
   "cell_type": "code",
   "execution_count": null,
   "metadata": {},
   "outputs": [],
   "source": [
    "all_dfs={}\n",
    "for dt in missing_dates:\n",
    "    daily_df= env.market_data.df[env.market_data.df[\"date\"]==dt]\n",
    "    all_dfs[dt]=daily_df\n"
   ]
  }
 ],
 "metadata": {
  "kernelspec": {
   "display_name": "ml_env2",
   "language": "python",
   "name": "python3"
  },
  "language_info": {
   "codemirror_mode": {
    "name": "ipython",
    "version": 3
   },
   "file_extension": ".py",
   "mimetype": "text/x-python",
   "name": "python",
   "nbconvert_exporter": "python",
   "pygments_lexer": "ipython3",
   "version": "3.11.11"
  }
 },
 "nbformat": 4,
 "nbformat_minor": 2
}
